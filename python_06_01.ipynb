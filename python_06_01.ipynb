{
  "nbformat": 4,
  "nbformat_minor": 0,
  "metadata": {
    "colab": {
      "provenance": []
    },
    "kernelspec": {
      "name": "python3",
      "display_name": "Python 3"
    },
    "language_info": {
      "name": "python"
    }
  },
  "cells": [
    {
      "cell_type": "markdown",
      "source": [
        "Python"
      ],
      "metadata": {
        "id": "4XBow9vNOJWl"
      }
    },
    {
      "cell_type": "code",
      "source": [
        "# print simple hello world string\n",
        "print(\"Hello World\")"
      ],
      "metadata": {
        "colab": {
          "base_uri": "https://localhost:8080/"
        },
        "id": "RJ12L5aCOM7g",
        "outputId": "1b2ba282-ff18-42fc-aaa1-8cddb1979457"
      },
      "execution_count": null,
      "outputs": [
        {
          "output_type": "stream",
          "name": "stdout",
          "text": [
            "Hello World\n"
          ]
        }
      ]
    },
    {
      "cell_type": "markdown",
      "source": [
        "Variables and constants"
      ],
      "metadata": {
        "id": "xhpWF58hPq4d"
      }
    },
    {
      "cell_type": "code",
      "source": [
        "name = \"Anthony\"\n",
        "print(name)"
      ],
      "metadata": {
        "colab": {
          "base_uri": "https://localhost:8080/"
        },
        "id": "j3xW4C6NPt1q",
        "outputId": "bcab58f8-a7d9-4d51-f42a-864fad7c8611"
      },
      "execution_count": null,
      "outputs": [
        {
          "output_type": "stream",
          "name": "stdout",
          "text": [
            "Anthony\n"
          ]
        }
      ]
    },
    {
      "cell_type": "code",
      "source": [
        "name = \"Nirmala\"\n",
        "print(name)"
      ],
      "metadata": {
        "colab": {
          "base_uri": "https://localhost:8080/"
        },
        "id": "UZTIfQMnP8dB",
        "outputId": "bb7c5f1f-2d85-4f14-cd88-641d3c37d06a"
      },
      "execution_count": null,
      "outputs": [
        {
          "output_type": "stream",
          "name": "stdout",
          "text": [
            "Nirmala\n"
          ]
        }
      ]
    },
    {
      "cell_type": "code",
      "source": [
        "name , age , marks = \"Anthony\",23,80\n",
        "print(name)\n",
        "print(age)\n",
        "print(marks)"
      ],
      "metadata": {
        "colab": {
          "base_uri": "https://localhost:8080/"
        },
        "id": "uXsze_caQEwX",
        "outputId": "43f57388-b545-4589-d1f2-426d6dc88ee6"
      },
      "execution_count": null,
      "outputs": [
        {
          "output_type": "stream",
          "name": "stdout",
          "text": [
            "Anthony\n",
            "23\n",
            "80\n"
          ]
        }
      ]
    },
    {
      "cell_type": "code",
      "source": [
        "var1 = var2 = 80\n",
        "print(var1)\n",
        "print(var2)"
      ],
      "metadata": {
        "colab": {
          "base_uri": "https://localhost:8080/"
        },
        "id": "bi8yBu_RQQgC",
        "outputId": "7cb0a04a-c74c-4b28-b3dd-83e4c170b5fe"
      },
      "execution_count": null,
      "outputs": [
        {
          "output_type": "stream",
          "name": "stdout",
          "text": [
            "80\n",
            "80\n"
          ]
        }
      ]
    },
    {
      "cell_type": "code",
      "source": [
        "num1 = \"20\"\n",
        "num2 = \"22\"\n",
        "print(int(num1) + int(num2))"
      ],
      "metadata": {
        "colab": {
          "base_uri": "https://localhost:8080/"
        },
        "id": "nNtJz2c6QZbq",
        "outputId": "10f1e2c5-6860-4be9-fc6d-86b5359af6fd"
      },
      "execution_count": null,
      "outputs": [
        {
          "output_type": "stream",
          "name": "stdout",
          "text": [
            "42\n"
          ]
        }
      ]
    },
    {
      "cell_type": "code",
      "source": [
        "num1 = int(input('Enter num1 : '))\n",
        "num2 = int(input('Enter num2 : '))\n",
        "\n",
        "\n",
        "print(num1 + num2)"
      ],
      "metadata": {
        "colab": {
          "base_uri": "https://localhost:8080/"
        },
        "id": "_5ur7eTjRLS-",
        "outputId": "43f3fc43-0ad6-44d4-8135-6a10875afb80"
      },
      "execution_count": null,
      "outputs": [
        {
          "output_type": "stream",
          "name": "stdout",
          "text": [
            "Enter num1 : 20\n",
            "Enter num2 : 22\n",
            "42\n"
          ]
        }
      ]
    },
    {
      "cell_type": "code",
      "source": [
        "print(\"Hello \" + \" World\" )"
      ],
      "metadata": {
        "colab": {
          "base_uri": "https://localhost:8080/"
        },
        "id": "MQfbDHbLRlHg",
        "outputId": "d1e77438-b2a1-4dd6-97cd-dbc646102814"
      },
      "execution_count": null,
      "outputs": [
        {
          "output_type": "stream",
          "name": "stdout",
          "text": [
            "Hello  World\n"
          ]
        }
      ]
    },
    {
      "cell_type": "code",
      "source": [
        "print(\"Hello\" , \"world\" , 23 , sep=' , ')"
      ],
      "metadata": {
        "colab": {
          "base_uri": "https://localhost:8080/"
        },
        "id": "n5_lCJV3Rqf4",
        "outputId": "a5fe4a33-4628-418e-e97b-7e2cc0f874e1"
      },
      "execution_count": null,
      "outputs": [
        {
          "output_type": "stream",
          "name": "stdout",
          "text": [
            "Hello , world , 23\n"
          ]
        }
      ]
    },
    {
      "cell_type": "code",
      "source": [
        "print(\"Hello\" , end = '----- ')\n",
        "print(\"World\" )\n",
        "print(\"Bye\" , end = '*****')\n",
        "print(\"hello\")"
      ],
      "metadata": {
        "colab": {
          "base_uri": "https://localhost:8080/"
        },
        "id": "2bB5RVKhSOb-",
        "outputId": "4a3ffb54-70a0-4115-a1ed-179feb817d5d"
      },
      "execution_count": null,
      "outputs": [
        {
          "output_type": "stream",
          "name": "stdout",
          "text": [
            "Hello----- World\n",
            "Bye*****hello\n"
          ]
        }
      ]
    },
    {
      "cell_type": "code",
      "source": [
        "name = \"Anthony\"\n",
        "age = 23\n",
        "print(\"My name is \" , name , \" and my age is \" , age)"
      ],
      "metadata": {
        "colab": {
          "base_uri": "https://localhost:8080/"
        },
        "id": "ZCnoLkLyTZR9",
        "outputId": "c6cf67ef-bc49-4326-fc69-decaa522fd6d"
      },
      "execution_count": null,
      "outputs": [
        {
          "output_type": "stream",
          "name": "stdout",
          "text": [
            "My name is  Anthony  and my age is  23\n"
          ]
        }
      ]
    },
    {
      "cell_type": "code",
      "source": [
        "print(\"My name is {} and my age is {} \".format(name , age))"
      ],
      "metadata": {
        "colab": {
          "base_uri": "https://localhost:8080/"
        },
        "id": "COVXlbnET39-",
        "outputId": "993d1ab7-576c-4a1d-f86d-6bbd7f167a75"
      },
      "execution_count": null,
      "outputs": [
        {
          "output_type": "stream",
          "name": "stdout",
          "text": [
            "My name is 49 and my age is 67 \n"
          ]
        }
      ]
    },
    {
      "cell_type": "code",
      "source": [
        "num1 = int(input('Enter a num1: '))\n",
        "\n",
        "if num1 > 0 :\n",
        "  print(\"Number is Positive\")\n",
        "elif num1 < 0 :\n",
        "  print(\"Number is Negative\")\n",
        "else :\n",
        "  print(\"Number is Zero\")"
      ],
      "metadata": {
        "colab": {
          "base_uri": "https://localhost:8080/"
        },
        "id": "xoRqnfJTWHZe",
        "outputId": "783788d1-df61-4c1e-9b18-1ae1b5f74429"
      },
      "execution_count": null,
      "outputs": [
        {
          "output_type": "stream",
          "name": "stdout",
          "text": [
            "Enter a num1: 0\n",
            "Number is Zero\n"
          ]
        }
      ]
    },
    {
      "cell_type": "markdown",
      "source": [
        "Loops\n",
        "\n",
        "for loop  -- no of iterations\n",
        "\n",
        "while loop -- condition"
      ],
      "metadata": {
        "id": "EvLM--75XtlS"
      }
    },
    {
      "cell_type": "code",
      "source": [
        "for i in range(5):   # range(5) = [0,1,2,3,4]\n",
        "  print(\" hello world \")"
      ],
      "metadata": {
        "colab": {
          "base_uri": "https://localhost:8080/"
        },
        "id": "sMJnDVgpXrTh",
        "outputId": "7d77eef9-46d7-43db-d27f-ba44ad3624dc"
      },
      "execution_count": null,
      "outputs": [
        {
          "output_type": "stream",
          "name": "stdout",
          "text": [
            " hello world \n",
            " hello world \n",
            " hello world \n",
            " hello world \n",
            " hello world \n"
          ]
        }
      ]
    },
    {
      "cell_type": "code",
      "source": [
        "marks = [80,90,89,67]\n",
        "\n",
        "for x in marks :\n",
        "  print(x)"
      ],
      "metadata": {
        "colab": {
          "base_uri": "https://localhost:8080/"
        },
        "id": "zUDxH1pqY7dm",
        "outputId": "e9c2df73-0c12-4837-9533-bde8d60af842"
      },
      "execution_count": null,
      "outputs": [
        {
          "output_type": "stream",
          "name": "stdout",
          "text": [
            "80\n",
            "90\n",
            "89\n",
            "67\n"
          ]
        }
      ]
    },
    {
      "cell_type": "code",
      "source": [
        "names = [\"Anthony\",\"Surya\",\"Chitra\",\"Nirmala\"]\n",
        "for name in names:\n",
        "  print(name , end= '  ')"
      ],
      "metadata": {
        "colab": {
          "base_uri": "https://localhost:8080/"
        },
        "id": "-AmJg9ucZPzD",
        "outputId": "1aeec248-266b-4a41-d9b3-03d4ef81eafb"
      },
      "execution_count": null,
      "outputs": [
        {
          "output_type": "stream",
          "name": "stdout",
          "text": [
            "Anthony  Surya  Chitra  Nirmala  "
          ]
        }
      ]
    },
    {
      "cell_type": "code",
      "source": [
        "for i in range(7):   # range(7) = [0,1,2,3,4,5,6]\n",
        "    if i == 3:\n",
        "      continue\n",
        "    print(i)"
      ],
      "metadata": {
        "colab": {
          "base_uri": "https://localhost:8080/"
        },
        "id": "WTjzlLQOZtRt",
        "outputId": "f84dcbf2-b549-470d-ddc1-32a0f913aa63"
      },
      "execution_count": null,
      "outputs": [
        {
          "output_type": "stream",
          "name": "stdout",
          "text": [
            "0\n",
            "1\n",
            "2\n",
            "4\n",
            "5\n",
            "6\n"
          ]
        }
      ]
    },
    {
      "cell_type": "code",
      "source": [
        "num = 0\n",
        "\n",
        "while num < 10:\n",
        "  print(num)\n",
        "  num += 1"
      ],
      "metadata": {
        "colab": {
          "base_uri": "https://localhost:8080/"
        },
        "id": "XGUabob3aeHt",
        "outputId": "f19ff532-438f-4f5c-ac31-a45d8bbeea43"
      },
      "execution_count": null,
      "outputs": [
        {
          "output_type": "stream",
          "name": "stdout",
          "text": [
            "0\n",
            "1\n",
            "2\n",
            "3\n",
            "4\n",
            "5\n",
            "6\n",
            "7\n",
            "8\n",
            "9\n"
          ]
        }
      ]
    },
    {
      "cell_type": "code",
      "source": [
        "num = 10\n",
        "while num > 0 :\n",
        "  print(num)\n",
        "  num -= 1"
      ],
      "metadata": {
        "colab": {
          "base_uri": "https://localhost:8080/"
        },
        "id": "rkiFf0u5as8o",
        "outputId": "602d6dfd-889b-4fa3-f32b-acba41d94358"
      },
      "execution_count": null,
      "outputs": [
        {
          "output_type": "stream",
          "name": "stdout",
          "text": [
            "10\n",
            "9\n",
            "8\n",
            "7\n",
            "6\n",
            "5\n",
            "4\n",
            "3\n",
            "2\n",
            "1\n"
          ]
        }
      ]
    },
    {
      "cell_type": "code",
      "source": [
        "num = int(input('Enter a num : '))\n",
        "\n",
        "sum = 0\n",
        "while num!=0 :\n",
        "  sum += num\n",
        "  num = int(input('Enter a num: '))\n",
        "\n",
        "print(sum)"
      ],
      "metadata": {
        "colab": {
          "base_uri": "https://localhost:8080/"
        },
        "id": "uRq2kTKzbmQm",
        "outputId": "1b7a4764-53c4-49d8-de92-189c544f1d99"
      },
      "execution_count": null,
      "outputs": [
        {
          "output_type": "stream",
          "name": "stdout",
          "text": [
            "Enter a num : 5\n",
            "Enter a num: 5\n",
            "Enter a num: 10\n",
            "Enter a num: 0\n",
            "20\n"
          ]
        }
      ]
    },
    {
      "cell_type": "markdown",
      "source": [
        "List - []\n",
        "\n",
        "Ordered , Mutable , Duplicates allowed  \n",
        "\n",
        "\n",
        "Tuple - ()\n",
        "\n",
        "Ordered , Immutable  , Duplicates allowed"
      ],
      "metadata": {
        "id": "-lah09DmgNC8"
      }
    },
    {
      "cell_type": "code",
      "source": [
        "marks = [80,90,89,70]\n",
        "print(marks)"
      ],
      "metadata": {
        "colab": {
          "base_uri": "https://localhost:8080/"
        },
        "id": "l77kyHaKgOOY",
        "outputId": "b3fc7bd4-0b22-46f2-9fe7-d4647ffcba37"
      },
      "execution_count": null,
      "outputs": [
        {
          "output_type": "stream",
          "name": "stdout",
          "text": [
            "[80, 90, 89, 70]\n"
          ]
        }
      ]
    },
    {
      "cell_type": "code",
      "source": [
        "print(marks[1])"
      ],
      "metadata": {
        "colab": {
          "base_uri": "https://localhost:8080/"
        },
        "id": "PA8Zcc8hgb0G",
        "outputId": "2d61c738-b341-45b8-91e2-ebe22a9cb093"
      },
      "execution_count": null,
      "outputs": [
        {
          "output_type": "stream",
          "name": "stdout",
          "text": [
            "90\n"
          ]
        }
      ]
    },
    {
      "cell_type": "code",
      "source": [
        "print(marks[-2])"
      ],
      "metadata": {
        "colab": {
          "base_uri": "https://localhost:8080/"
        },
        "id": "RTBTCx9WgiNc",
        "outputId": "2b9e54d4-19b6-40b8-ae73-306218ff107d"
      },
      "execution_count": null,
      "outputs": [
        {
          "output_type": "stream",
          "name": "stdout",
          "text": [
            "89\n"
          ]
        }
      ]
    },
    {
      "cell_type": "code",
      "source": [
        "print(marks[1:3])"
      ],
      "metadata": {
        "colab": {
          "base_uri": "https://localhost:8080/"
        },
        "id": "fn4NTX9XgtbI",
        "outputId": "3f696cdd-c2ee-403d-a55d-2a4ebf9b0fac"
      },
      "execution_count": null,
      "outputs": [
        {
          "output_type": "stream",
          "name": "stdout",
          "text": [
            "[90, 89]\n"
          ]
        }
      ]
    },
    {
      "cell_type": "code",
      "source": [
        "print(marks)\n",
        "marks[1] = 89\n",
        "print(marks)"
      ],
      "metadata": {
        "colab": {
          "base_uri": "https://localhost:8080/"
        },
        "id": "tMeVgg-phDqy",
        "outputId": "76f9fd8d-278c-4ccd-e5a3-005dcdc6a15f"
      },
      "execution_count": null,
      "outputs": [
        {
          "output_type": "stream",
          "name": "stdout",
          "text": [
            "[80, 90, 89, 70]\n",
            "[80, 89, 89, 70]\n"
          ]
        }
      ]
    },
    {
      "cell_type": "code",
      "source": [
        "marks.append(65)\n",
        "print(marks)"
      ],
      "metadata": {
        "colab": {
          "base_uri": "https://localhost:8080/"
        },
        "id": "l1u5q7sXhWs0",
        "outputId": "85ce1fba-60f4-465f-82c2-76f94edd6438"
      },
      "execution_count": null,
      "outputs": [
        {
          "output_type": "stream",
          "name": "stdout",
          "text": [
            "[80, 89, 89, 70, 65]\n"
          ]
        }
      ]
    },
    {
      "cell_type": "code",
      "source": [
        "marks.insert(1,78)\n",
        "print(marks)"
      ],
      "metadata": {
        "colab": {
          "base_uri": "https://localhost:8080/"
        },
        "id": "iwA8v39Lhprs",
        "outputId": "7fe42530-ad5d-4720-a1ea-a077a398f61c"
      },
      "execution_count": null,
      "outputs": [
        {
          "output_type": "stream",
          "name": "stdout",
          "text": [
            "[80, 78, 89, 89, 70, 65]\n"
          ]
        }
      ]
    },
    {
      "cell_type": "code",
      "source": [
        "marks.extend([89,78,67])\n",
        "print(marks)"
      ],
      "metadata": {
        "colab": {
          "base_uri": "https://localhost:8080/"
        },
        "id": "-GsHwon0h4L7",
        "outputId": "81b6f545-5b09-4bd8-81a6-dd78dd7d99e1"
      },
      "execution_count": null,
      "outputs": [
        {
          "output_type": "stream",
          "name": "stdout",
          "text": [
            "[80, 78, 89, 89, 70, 65, 89, 78, 67]\n"
          ]
        }
      ]
    },
    {
      "cell_type": "code",
      "source": [
        "marks.remove(78)"
      ],
      "metadata": {
        "id": "PLxVuaL5iI0p"
      },
      "execution_count": null,
      "outputs": []
    },
    {
      "cell_type": "code",
      "source": [
        "print(marks)"
      ],
      "metadata": {
        "colab": {
          "base_uri": "https://localhost:8080/"
        },
        "id": "2sxF9ZbgiM8F",
        "outputId": "be57fe49-8b9c-4e3d-e3ca-574ad2fc8288"
      },
      "execution_count": null,
      "outputs": [
        {
          "output_type": "stream",
          "name": "stdout",
          "text": [
            "[80, 89, 89, 70, 65, 89, 78, 67]\n"
          ]
        }
      ]
    },
    {
      "cell_type": "code",
      "source": [
        "del marks[1:4]\n",
        "print(marks)"
      ],
      "metadata": {
        "colab": {
          "base_uri": "https://localhost:8080/"
        },
        "id": "a7UGPz2KiT9L",
        "outputId": "309e2cab-d18d-4333-b345-7d3fd79b4e8f"
      },
      "execution_count": null,
      "outputs": [
        {
          "output_type": "stream",
          "name": "stdout",
          "text": [
            "[80, 89, 78, 67]\n"
          ]
        }
      ]
    },
    {
      "cell_type": "code",
      "source": [
        "for mark in marks :\n",
        "  print(mark)"
      ],
      "metadata": {
        "colab": {
          "base_uri": "https://localhost:8080/"
        },
        "id": "fehLMbZrik9P",
        "outputId": "294ce701-48a7-4dda-f80e-10c90025f32d"
      },
      "execution_count": null,
      "outputs": [
        {
          "output_type": "stream",
          "name": "stdout",
          "text": [
            "80\n",
            "89\n",
            "78\n",
            "67\n"
          ]
        }
      ]
    },
    {
      "cell_type": "code",
      "source": [
        "marks.count(89)"
      ],
      "metadata": {
        "colab": {
          "base_uri": "https://localhost:8080/"
        },
        "id": "UnBdI6PnixjL",
        "outputId": "2072262a-9725-4cf6-ffc3-8f8cff0f36c0"
      },
      "execution_count": null,
      "outputs": [
        {
          "output_type": "execute_result",
          "data": {
            "text/plain": [
              "1"
            ]
          },
          "metadata": {},
          "execution_count": 88
        }
      ]
    },
    {
      "cell_type": "code",
      "source": [
        "marks.sort(reverse = True)\n",
        "print(marks)"
      ],
      "metadata": {
        "colab": {
          "base_uri": "https://localhost:8080/"
        },
        "id": "FusbB7Bli1ke",
        "outputId": "0be3e0a4-2346-4abb-e8df-83484d514398"
      },
      "execution_count": null,
      "outputs": [
        {
          "output_type": "stream",
          "name": "stdout",
          "text": [
            "[89, 80, 78, 67]\n"
          ]
        }
      ]
    },
    {
      "cell_type": "code",
      "source": [
        "marks.reverse()\n",
        "print(marks)"
      ],
      "metadata": {
        "colab": {
          "base_uri": "https://localhost:8080/"
        },
        "id": "Ja6IZrAEjLkO",
        "outputId": "8e8b4b69-c8dc-48e6-b602-a591dfd56e12"
      },
      "execution_count": null,
      "outputs": [
        {
          "output_type": "stream",
          "name": "stdout",
          "text": [
            "[67, 78, 80, 89]\n"
          ]
        }
      ]
    },
    {
      "cell_type": "markdown",
      "source": [
        "Tuples"
      ],
      "metadata": {
        "id": "zsVghXDWjtXl"
      }
    },
    {
      "cell_type": "code",
      "source": [
        "ages = (22,23,24,22)\n",
        "print(ages)"
      ],
      "metadata": {
        "colab": {
          "base_uri": "https://localhost:8080/"
        },
        "id": "Y9CPyF4Djmt1",
        "outputId": "01e0e574-0500-45ef-c190-5ad83cb7b113"
      },
      "execution_count": null,
      "outputs": [
        {
          "output_type": "stream",
          "name": "stdout",
          "text": [
            "(22, 23, 24, 22)\n"
          ]
        }
      ]
    },
    {
      "cell_type": "code",
      "source": [
        "print(ages[1:3])"
      ],
      "metadata": {
        "colab": {
          "base_uri": "https://localhost:8080/"
        },
        "id": "md5_poMVjslZ",
        "outputId": "2c096f34-b6d1-4ca4-d3cb-329c638bcfce"
      },
      "execution_count": null,
      "outputs": [
        {
          "output_type": "stream",
          "name": "stdout",
          "text": [
            "(23, 24)\n"
          ]
        }
      ]
    },
    {
      "cell_type": "code",
      "source": [
        "for age in ages:\n",
        "  print(age)"
      ],
      "metadata": {
        "colab": {
          "base_uri": "https://localhost:8080/"
        },
        "id": "PRVYbOY8j2QE",
        "outputId": "fc6d3d9e-0739-4e96-fe12-fb1a0f12a235"
      },
      "execution_count": null,
      "outputs": [
        {
          "output_type": "stream",
          "name": "stdout",
          "text": [
            "22\n",
            "23\n",
            "24\n",
            "22\n"
          ]
        }
      ]
    },
    {
      "cell_type": "markdown",
      "source": [
        "Set : {}\n",
        "\n",
        "\n",
        "Dont allow duplicates"
      ],
      "metadata": {
        "id": "XLJRdxL-kXcu"
      }
    },
    {
      "cell_type": "code",
      "source": [
        "marks = {10,10,10,20,20,30,30}\n",
        "print(marks)"
      ],
      "metadata": {
        "colab": {
          "base_uri": "https://localhost:8080/"
        },
        "id": "083ipOQxkXHT",
        "outputId": "7c7ab1d3-ea0d-4d4f-bb83-cf3bc2e4960c"
      },
      "execution_count": null,
      "outputs": [
        {
          "output_type": "stream",
          "name": "stdout",
          "text": [
            "{10, 20, 30}\n"
          ]
        }
      ]
    },
    {
      "cell_type": "code",
      "source": [
        "marks.add(40)\n",
        "print(marks)"
      ],
      "metadata": {
        "colab": {
          "base_uri": "https://localhost:8080/"
        },
        "id": "k5XVs9OClJWf",
        "outputId": "cf67d80b-e70b-4df2-e19d-57c199ff2134"
      },
      "execution_count": null,
      "outputs": [
        {
          "output_type": "stream",
          "name": "stdout",
          "text": [
            "{40, 10, 20, 30}\n"
          ]
        }
      ]
    },
    {
      "cell_type": "code",
      "source": [
        "marks.update([40,40,50,50,60,60,70])\n",
        "print(marks)"
      ],
      "metadata": {
        "colab": {
          "base_uri": "https://localhost:8080/"
        },
        "id": "SLL2CD_pljeg",
        "outputId": "c1b21605-7180-44c7-bb3c-e94ee547d4ac"
      },
      "execution_count": null,
      "outputs": [
        {
          "output_type": "stream",
          "name": "stdout",
          "text": [
            "{70, 40, 10, 50, 20, 60, 30}\n"
          ]
        }
      ]
    },
    {
      "cell_type": "code",
      "source": [
        "marks.discard(40)\n",
        "print(marks)"
      ],
      "metadata": {
        "colab": {
          "base_uri": "https://localhost:8080/"
        },
        "id": "vHOG_-u3l1F2",
        "outputId": "8dcac728-6e1a-421c-bf35-6c15540cd85b"
      },
      "execution_count": null,
      "outputs": [
        {
          "output_type": "stream",
          "name": "stdout",
          "text": [
            "{70, 10, 50, 20, 60, 30}\n"
          ]
        }
      ]
    },
    {
      "cell_type": "code",
      "source": [
        "print(len(marks))"
      ],
      "metadata": {
        "colab": {
          "base_uri": "https://localhost:8080/"
        },
        "id": "6qtn6nTHl6wW",
        "outputId": "544b590c-f7b4-4c3d-a0d2-d751f65f25ca"
      },
      "execution_count": null,
      "outputs": [
        {
          "output_type": "stream",
          "name": "stdout",
          "text": [
            "6\n"
          ]
        }
      ]
    },
    {
      "cell_type": "code",
      "source": [
        "print(max(marks))"
      ],
      "metadata": {
        "colab": {
          "base_uri": "https://localhost:8080/"
        },
        "id": "uvfLXfrQmI6e",
        "outputId": "22b0e1e2-a299-425f-b944-13ae2f5db2fe"
      },
      "execution_count": null,
      "outputs": [
        {
          "output_type": "stream",
          "name": "stdout",
          "text": [
            "70\n"
          ]
        }
      ]
    },
    {
      "cell_type": "code",
      "source": [
        "print(min(marks))"
      ],
      "metadata": {
        "colab": {
          "base_uri": "https://localhost:8080/"
        },
        "id": "bIOAM65zmOr2",
        "outputId": "ec236608-b70e-4250-e029-decd82a4d8c1"
      },
      "execution_count": null,
      "outputs": [
        {
          "output_type": "stream",
          "name": "stdout",
          "text": [
            "10\n"
          ]
        }
      ]
    },
    {
      "cell_type": "code",
      "source": [
        "for mark in marks:\n",
        "  print(mark)"
      ],
      "metadata": {
        "colab": {
          "base_uri": "https://localhost:8080/"
        },
        "id": "9GFKb71QnWYK",
        "outputId": "102d33f7-5846-4d20-e865-52cb54921c52"
      },
      "execution_count": null,
      "outputs": [
        {
          "output_type": "stream",
          "name": "stdout",
          "text": [
            "70\n",
            "10\n",
            "50\n",
            "20\n",
            "60\n",
            "30\n"
          ]
        }
      ]
    },
    {
      "cell_type": "code",
      "source": [
        "A = { 10,11,12,13,14,15}\n",
        "B = { 13,14,15,16,17}"
      ],
      "metadata": {
        "id": "ESs2jAZGuWOY"
      },
      "execution_count": null,
      "outputs": []
    },
    {
      "cell_type": "code",
      "source": [
        "print(A.intersection(B))\n",
        "print( A & B )"
      ],
      "metadata": {
        "colab": {
          "base_uri": "https://localhost:8080/"
        },
        "id": "w7jX3A-LucaZ",
        "outputId": "0be93938-a24b-4400-e734-8e7457a238d8"
      },
      "execution_count": null,
      "outputs": [
        {
          "output_type": "stream",
          "name": "stdout",
          "text": [
            "{13, 14, 15}\n",
            "{13, 14, 15}\n"
          ]
        }
      ]
    },
    {
      "cell_type": "code",
      "source": [
        "print(A.union(B))\n",
        "print(A | B )"
      ],
      "metadata": {
        "colab": {
          "base_uri": "https://localhost:8080/"
        },
        "id": "gvEpwonfuzhj",
        "outputId": "3958cd55-6a33-4b11-f1bd-79e9270c3b92"
      },
      "execution_count": null,
      "outputs": [
        {
          "output_type": "stream",
          "name": "stdout",
          "text": [
            "{10, 11, 12, 13, 14, 15, 16, 17}\n",
            "{10, 11, 12, 13, 14, 15, 16, 17}\n"
          ]
        }
      ]
    },
    {
      "cell_type": "code",
      "source": [
        "print(A.difference(B))\n",
        "print(A-B)"
      ],
      "metadata": {
        "colab": {
          "base_uri": "https://localhost:8080/"
        },
        "id": "DFE4rYw0vXsa",
        "outputId": "f06e4b44-4652-426e-afdf-870590393680"
      },
      "execution_count": null,
      "outputs": [
        {
          "output_type": "stream",
          "name": "stdout",
          "text": [
            "{10, 11, 12}\n",
            "{10, 11, 12}\n"
          ]
        }
      ]
    },
    {
      "cell_type": "code",
      "source": [
        "print(A.symmetric_difference(B))\n",
        "print(A ^ B)"
      ],
      "metadata": {
        "colab": {
          "base_uri": "https://localhost:8080/"
        },
        "id": "kHDFajfCv89M",
        "outputId": "651071e9-0ca9-4612-e1ce-3c6396c61989"
      },
      "execution_count": null,
      "outputs": [
        {
          "output_type": "stream",
          "name": "stdout",
          "text": [
            "{16, 17, 10, 11, 12}\n",
            "{16, 17, 10, 11, 12}\n"
          ]
        }
      ]
    },
    {
      "cell_type": "markdown",
      "source": [
        " Dictionary ( key - value )\n",
        "\n"
      ],
      "metadata": {
        "id": "B8x15leWKGch"
      }
    },
    {
      "cell_type": "code",
      "source": [
        "person = {\n",
        "    \"name\" : \"Alice\",\n",
        "    \"age\" : 23,\n",
        "    \"course\":\"Data Science\"\n",
        "}\n",
        "print(person)"
      ],
      "metadata": {
        "colab": {
          "base_uri": "https://localhost:8080/"
        },
        "id": "BZkRhDV_KRfr",
        "outputId": "0f73a5f3-a4b4-4183-ca86-656b5a4675c0"
      },
      "execution_count": null,
      "outputs": [
        {
          "output_type": "stream",
          "name": "stdout",
          "text": [
            "{'name': 'Alice', 'age': 23, 'course': 'Data Science'}\n"
          ]
        }
      ]
    },
    {
      "cell_type": "code",
      "source": [
        "print(person[\"age\"])"
      ],
      "metadata": {
        "colab": {
          "base_uri": "https://localhost:8080/"
        },
        "id": "vpYau4ypKStw",
        "outputId": "78ebe3f3-a664-4b32-d2b6-f15483e7da13"
      },
      "execution_count": null,
      "outputs": [
        {
          "output_type": "stream",
          "name": "stdout",
          "text": [
            "23\n"
          ]
        }
      ]
    },
    {
      "cell_type": "code",
      "source": [
        "person[\"age\"] = 22"
      ],
      "metadata": {
        "id": "adw1LUzTKxTa"
      },
      "execution_count": null,
      "outputs": []
    },
    {
      "cell_type": "code",
      "source": [
        "print(person[\"age\"])"
      ],
      "metadata": {
        "colab": {
          "base_uri": "https://localhost:8080/"
        },
        "id": "TG7mHtqwK0Ny",
        "outputId": "bcec0c58-43ce-481b-b93a-73b35543d4fb"
      },
      "execution_count": null,
      "outputs": [
        {
          "output_type": "stream",
          "name": "stdout",
          "text": [
            "22\n"
          ]
        }
      ]
    },
    {
      "cell_type": "code",
      "source": [
        "person[\"country\"] = 'USA'\n",
        "print(person)"
      ],
      "metadata": {
        "colab": {
          "base_uri": "https://localhost:8080/"
        },
        "id": "hDdPWJYcK5wz",
        "outputId": "decb3510-e522-4f7c-a667-04331f1ff5a4"
      },
      "execution_count": null,
      "outputs": [
        {
          "output_type": "stream",
          "name": "stdout",
          "text": [
            "{'name': 'Alice', 'age': 22, 'course': 'Data Science', 'country': 'USA'}\n"
          ]
        }
      ]
    },
    {
      "cell_type": "code",
      "source": [
        "del person[\"country\"]\n",
        "print(person)"
      ],
      "metadata": {
        "colab": {
          "base_uri": "https://localhost:8080/"
        },
        "id": "YbFplKT0LLXG",
        "outputId": "29a35d8d-a91e-454e-d9ae-00f84afb6491"
      },
      "execution_count": null,
      "outputs": [
        {
          "output_type": "stream",
          "name": "stdout",
          "text": [
            "{'name': 'Alice', 'age': 22, 'course': 'Data Science'}\n"
          ]
        }
      ]
    },
    {
      "cell_type": "code",
      "source": [
        "for x in person:\n",
        "  print(x , person[x])"
      ],
      "metadata": {
        "colab": {
          "base_uri": "https://localhost:8080/"
        },
        "id": "HO5BOCUPLWLd",
        "outputId": "dc57938f-4fd5-4bab-82ea-6fea7fdd5d7b"
      },
      "execution_count": null,
      "outputs": [
        {
          "output_type": "stream",
          "name": "stdout",
          "text": [
            "name Alice\n",
            "age 22\n",
            "course Data Science\n"
          ]
        }
      ]
    },
    {
      "cell_type": "code",
      "source": [
        "print(len(person))"
      ],
      "metadata": {
        "colab": {
          "base_uri": "https://localhost:8080/"
        },
        "id": "0VfoxcEaLn30",
        "outputId": "285d5898-fa82-4912-f57d-9f05a37476cd"
      },
      "execution_count": null,
      "outputs": [
        {
          "output_type": "stream",
          "name": "stdout",
          "text": [
            "3\n"
          ]
        }
      ]
    },
    {
      "cell_type": "code",
      "source": [
        "person.keys()"
      ],
      "metadata": {
        "colab": {
          "base_uri": "https://localhost:8080/"
        },
        "id": "PZ6wrWKELvQI",
        "outputId": "c8eb16e1-97d8-4ec0-ef62-55223dca1078"
      },
      "execution_count": null,
      "outputs": [
        {
          "output_type": "execute_result",
          "data": {
            "text/plain": [
              "dict_keys(['name', 'age', 'course'])"
            ]
          },
          "metadata": {},
          "execution_count": 16
        }
      ]
    },
    {
      "cell_type": "code",
      "source": [
        "person.values()"
      ],
      "metadata": {
        "colab": {
          "base_uri": "https://localhost:8080/"
        },
        "id": "dlC6pvhrLx4p",
        "outputId": "72df4736-3e50-4ace-db80-506a75aa38cf"
      },
      "execution_count": null,
      "outputs": [
        {
          "output_type": "execute_result",
          "data": {
            "text/plain": [
              "dict_values(['Alice', 22, 'Data Science'])"
            ]
          },
          "metadata": {},
          "execution_count": 17
        }
      ]
    },
    {
      "cell_type": "code",
      "source": [
        "person = {\"name\" : \"alice\" , \"name\" : \"xyz\"}\n",
        "print(person)"
      ],
      "metadata": {
        "colab": {
          "base_uri": "https://localhost:8080/"
        },
        "id": "TJEIa1HTL-a1",
        "outputId": "38ae49ba-9d8e-4809-a462-f794f333535d"
      },
      "execution_count": null,
      "outputs": [
        {
          "output_type": "stream",
          "name": "stdout",
          "text": [
            "{'name': 'xyz'}\n"
          ]
        }
      ]
    },
    {
      "cell_type": "markdown",
      "source": [
        "Functions"
      ],
      "metadata": {
        "id": "V_bVxypxMaMR"
      }
    },
    {
      "cell_type": "code",
      "source": [
        "def hello(name):\n",
        "  print(\"hello \",name)\n",
        "\n",
        "\n",
        "hello(\"Alice\")"
      ],
      "metadata": {
        "colab": {
          "base_uri": "https://localhost:8080/"
        },
        "id": "MYNe1HB_M8P1",
        "outputId": "9714a07b-ea19-4b70-c9d7-acb536ffa5b8"
      },
      "execution_count": null,
      "outputs": [
        {
          "output_type": "stream",
          "name": "stdout",
          "text": [
            "hello  Alice\n"
          ]
        }
      ]
    },
    {
      "cell_type": "code",
      "source": [
        "def add_two_num(a,b):\n",
        "  return a**b\n",
        "\n",
        "\n",
        "\n",
        "res = add_two_num(3,4)\n",
        "res *=2\n",
        "print(res)\n"
      ],
      "metadata": {
        "colab": {
          "base_uri": "https://localhost:8080/"
        },
        "id": "pHj3SQSHNZsb",
        "outputId": "d918854e-37a6-4b3c-e5fc-b0376702d81a"
      },
      "execution_count": 26,
      "outputs": [
        {
          "output_type": "stream",
          "name": "stdout",
          "text": [
            "162\n"
          ]
        }
      ]
    },
    {
      "cell_type": "markdown",
      "source": [
        "write a function func1 which will list as input and return sum of all elements\n",
        "\n",
        "write a function func2 which will take int n as input and print all even numbers from 0 to n\n",
        "\n",
        "write a funcrion func3 which will take  int list as inpout and return diff of max and min elements\n",
        "\n"
      ],
      "metadata": {
        "id": "oOxvuqNQPEgC"
      }
    },
    {
      "cell_type": "code",
      "source": [
        "def sum_list(mylist):\n",
        "  # return sum of list\n",
        "  sum = 0\n",
        "  for x in mylist:\n",
        "    sum += x\n",
        "  return sum\n",
        "\n",
        "res = sum_list([1,2,3,4,5,6])\n",
        "print(res)"
      ],
      "metadata": {
        "colab": {
          "base_uri": "https://localhost:8080/"
        },
        "id": "Zqnwh8JOVg-h",
        "outputId": "d0bd7446-f56a-47ef-b9d2-65ec023eb635"
      },
      "execution_count": 29,
      "outputs": [
        {
          "output_type": "stream",
          "name": "stdout",
          "text": [
            "21\n"
          ]
        }
      ]
    },
    {
      "cell_type": "code",
      "source": [
        "for x in range(10):\n",
        "  if x%2 == 0:\n",
        "    print(x)"
      ],
      "metadata": {
        "colab": {
          "base_uri": "https://localhost:8080/"
        },
        "id": "lJBVcytjWSDJ",
        "outputId": "a78ad061-f630-4b52-d5c9-d98e9ffbd169"
      },
      "execution_count": 31,
      "outputs": [
        {
          "output_type": "stream",
          "name": "stdout",
          "text": [
            "0\n",
            "2\n",
            "4\n",
            "6\n",
            "8\n"
          ]
        }
      ]
    },
    {
      "cell_type": "code",
      "source": [
        "def func(n):\n",
        "  for x in range(n):\n",
        "    if x%2 == 0 :\n",
        "      print(x)\n",
        "\n",
        "\n",
        "func(10)"
      ],
      "metadata": {
        "colab": {
          "base_uri": "https://localhost:8080/"
        },
        "id": "hcg0J6QDWboE",
        "outputId": "cd586df4-048d-47d0-ca7d-98cf00246e05"
      },
      "execution_count": 32,
      "outputs": [
        {
          "output_type": "stream",
          "name": "stdout",
          "text": [
            "0\n",
            "2\n",
            "4\n",
            "6\n",
            "8\n"
          ]
        }
      ]
    },
    {
      "cell_type": "code",
      "source": [
        "for x in range(10):\n",
        "  print(x)"
      ],
      "metadata": {
        "colab": {
          "base_uri": "https://localhost:8080/"
        },
        "id": "lWZIHL-1YGwH",
        "outputId": "5e344610-a4e8-409a-a2ca-cae19a8df92f"
      },
      "execution_count": 37,
      "outputs": [
        {
          "output_type": "stream",
          "name": "stdout",
          "text": [
            "0\n",
            "1\n",
            "2\n",
            "3\n",
            "4\n",
            "5\n",
            "6\n",
            "7\n",
            "8\n",
            "9\n"
          ]
        }
      ]
    },
    {
      "cell_type": "code",
      "source": [
        "class Student:\n",
        "  def __init__(self , name , age):\n",
        "    self.name = name      # s1.name = \"alice\"   s2.age = \"John\"\n",
        "    self.age = age   # s1.age = 23   s2.age = 24\n",
        "\n",
        "  def my_info(self):\n",
        "    print(self.name , self.age)   # s1.name , s1.age     # s2.age s2.name\n",
        "\n",
        "\n",
        "s1 = Student(\"Alice\", 23)\n",
        "s1.my_info()\n",
        "\n",
        "\n",
        "s2 = Student(\"John\" , 24)\n",
        "s2.my_info()"
      ],
      "metadata": {
        "colab": {
          "base_uri": "https://localhost:8080/"
        },
        "id": "WPD4Uyy_ZRGY",
        "outputId": "24c4468e-7319-41f4-93dd-87a714159640"
      },
      "execution_count": 40,
      "outputs": [
        {
          "output_type": "stream",
          "name": "stdout",
          "text": [
            "Alice 23\n",
            "John 24\n"
          ]
        }
      ]
    },
    {
      "cell_type": "code",
      "source": [
        "class Shape:\n",
        "  def __init__(self , no_of_sides , color):\n",
        "    self.no_of_sides = no_of_sides\n",
        "    self.color = color\n",
        "\n",
        "  def my_info(self):\n",
        "    print(self.no_of_sides , self.color)\n",
        "\n",
        "\n",
        "\n",
        "s1 = Shape(4,\"red\")\n",
        "s2 = Shape(6,\"Blue\")\n",
        "s1.my_info()\n",
        "s2.my_info()"
      ],
      "metadata": {
        "colab": {
          "base_uri": "https://localhost:8080/"
        },
        "id": "GtRS0ccMbPDz",
        "outputId": "7b82e10a-803f-485b-aa40-a84f2dc6e7e7"
      },
      "execution_count": 41,
      "outputs": [
        {
          "output_type": "stream",
          "name": "stdout",
          "text": [
            "4 red\n",
            "6 Blue\n"
          ]
        }
      ]
    },
    {
      "cell_type": "markdown",
      "source": [
        "create a class name square\n",
        "with properties\n",
        "length\n",
        "and methods\n",
        "area\n",
        "perimeter\n",
        "and then create two objects with diff length and pritn area and permimeter\n",
        "\n",
        "\n",
        "\n",
        "\n",
        "create a class name Rectangle\n",
        "with properties\n",
        "length  = 10 , width = 5 , color = \"blue\n",
        "and methods\n",
        "area\n",
        "perimeter\n",
        "getInfo --> l ,w , c\n",
        "and then create two objects with diff length , width , color and pritn area and permimeter , getInfo"
      ],
      "metadata": {
        "id": "t2h_p6AWb7CL"
      }
    },
    {
      "cell_type": "code",
      "source": [
        "class Square:\n",
        "  def __init__(self , length = 10):\n",
        "    self.length = length\n",
        "\n",
        "  def area(self):\n",
        "    return self.length*self.length\n",
        "\n",
        "  def peri(self):\n",
        "    return 4*self.length\n",
        "\n",
        "s1 = Square()   # length = 10\n",
        "s2 = Square(5)   # length = 5\n",
        "\n",
        "\n",
        "print(s1.area())   # 100\n",
        "print(s1.peri())   # 40\n",
        "\n",
        "\n",
        "\n",
        "print(s2.area())   # 25\n",
        "print(s2.peri())   # 20"
      ],
      "metadata": {
        "colab": {
          "base_uri": "https://localhost:8080/"
        },
        "id": "kaXCwgCvmXov",
        "outputId": "9795d41b-011c-46d3-97dc-c175e713c7f6"
      },
      "execution_count": 43,
      "outputs": [
        {
          "output_type": "stream",
          "name": "stdout",
          "text": [
            "100\n",
            "40\n",
            "25\n",
            "20\n"
          ]
        }
      ]
    }
  ]
}