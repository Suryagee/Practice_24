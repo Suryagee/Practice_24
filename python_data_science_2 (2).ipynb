{
  "nbformat": 4,
  "nbformat_minor": 0,
  "metadata": {
    "colab": {
      "provenance": []
    },
    "kernelspec": {
      "name": "python3",
      "display_name": "Python 3"
    },
    "language_info": {
      "name": "python"
    }
  },
  "cells": [
    {
      "cell_type": "markdown",
      "source": [
        "Python"
      ],
      "metadata": {
        "id": "4XBow9vNOJWl"
      }
    },
    {
      "cell_type": "code",
      "source": [
        "# print simple hello world string\n",
        "print(\"Hello World\")"
      ],
      "metadata": {
        "colab": {
          "base_uri": "https://localhost:8080/"
        },
        "id": "RJ12L5aCOM7g",
        "outputId": "1b2ba282-ff18-42fc-aaa1-8cddb1979457"
      },
      "execution_count": null,
      "outputs": [
        {
          "output_type": "stream",
          "name": "stdout",
          "text": [
            "Hello World\n"
          ]
        }
      ]
    },
    {
      "cell_type": "markdown",
      "source": [
        "Variables and constants"
      ],
      "metadata": {
        "id": "xhpWF58hPq4d"
      }
    },
    {
      "cell_type": "code",
      "source": [
        "name = \"Anthony\"\n",
        "print(name)"
      ],
      "metadata": {
        "colab": {
          "base_uri": "https://localhost:8080/"
        },
        "id": "j3xW4C6NPt1q",
        "outputId": "bcab58f8-a7d9-4d51-f42a-864fad7c8611"
      },
      "execution_count": null,
      "outputs": [
        {
          "output_type": "stream",
          "name": "stdout",
          "text": [
            "Anthony\n"
          ]
        }
      ]
    },
    {
      "cell_type": "code",
      "source": [
        "name = \"Nirmala\"\n",
        "print(name)"
      ],
      "metadata": {
        "colab": {
          "base_uri": "https://localhost:8080/"
        },
        "id": "UZTIfQMnP8dB",
        "outputId": "bb7c5f1f-2d85-4f14-cd88-641d3c37d06a"
      },
      "execution_count": null,
      "outputs": [
        {
          "output_type": "stream",
          "name": "stdout",
          "text": [
            "Nirmala\n"
          ]
        }
      ]
    },
    {
      "cell_type": "code",
      "source": [
        "name , age , marks = \"Anthony\",23,80\n",
        "print(name)\n",
        "print(age)\n",
        "print(marks)"
      ],
      "metadata": {
        "colab": {
          "base_uri": "https://localhost:8080/"
        },
        "id": "uXsze_caQEwX",
        "outputId": "43f57388-b545-4589-d1f2-426d6dc88ee6"
      },
      "execution_count": null,
      "outputs": [
        {
          "output_type": "stream",
          "name": "stdout",
          "text": [
            "Anthony\n",
            "23\n",
            "80\n"
          ]
        }
      ]
    },
    {
      "cell_type": "code",
      "source": [
        "var1 = var2 = 80\n",
        "print(var1)\n",
        "print(var2)"
      ],
      "metadata": {
        "colab": {
          "base_uri": "https://localhost:8080/"
        },
        "id": "bi8yBu_RQQgC",
        "outputId": "7cb0a04a-c74c-4b28-b3dd-83e4c170b5fe"
      },
      "execution_count": null,
      "outputs": [
        {
          "output_type": "stream",
          "name": "stdout",
          "text": [
            "80\n",
            "80\n"
          ]
        }
      ]
    },
    {
      "cell_type": "code",
      "source": [
        "num1 = \"20\"\n",
        "num2 = \"22\"\n",
        "print(int(num1) + int(num2))"
      ],
      "metadata": {
        "colab": {
          "base_uri": "https://localhost:8080/"
        },
        "id": "nNtJz2c6QZbq",
        "outputId": "10f1e2c5-6860-4be9-fc6d-86b5359af6fd"
      },
      "execution_count": null,
      "outputs": [
        {
          "output_type": "stream",
          "name": "stdout",
          "text": [
            "42\n"
          ]
        }
      ]
    },
    {
      "cell_type": "code",
      "source": [
        "num1 = int(input('Enter num1 : '))\n",
        "num2 = int(input('Enter num2 : '))\n",
        "\n",
        "\n",
        "print(num1 + num2)"
      ],
      "metadata": {
        "colab": {
          "base_uri": "https://localhost:8080/"
        },
        "id": "_5ur7eTjRLS-",
        "outputId": "43f3fc43-0ad6-44d4-8135-6a10875afb80"
      },
      "execution_count": null,
      "outputs": [
        {
          "output_type": "stream",
          "name": "stdout",
          "text": [
            "Enter num1 : 20\n",
            "Enter num2 : 22\n",
            "42\n"
          ]
        }
      ]
    },
    {
      "cell_type": "code",
      "source": [
        "print(\"Hello \" + \" World\" )"
      ],
      "metadata": {
        "colab": {
          "base_uri": "https://localhost:8080/"
        },
        "id": "MQfbDHbLRlHg",
        "outputId": "d1e77438-b2a1-4dd6-97cd-dbc646102814"
      },
      "execution_count": null,
      "outputs": [
        {
          "output_type": "stream",
          "name": "stdout",
          "text": [
            "Hello  World\n"
          ]
        }
      ]
    },
    {
      "cell_type": "code",
      "source": [
        "print(\"Hello\" , \"world\" , 23 , sep=' , ')"
      ],
      "metadata": {
        "colab": {
          "base_uri": "https://localhost:8080/"
        },
        "id": "n5_lCJV3Rqf4",
        "outputId": "a5fe4a33-4628-418e-e97b-7e2cc0f874e1"
      },
      "execution_count": null,
      "outputs": [
        {
          "output_type": "stream",
          "name": "stdout",
          "text": [
            "Hello , world , 23\n"
          ]
        }
      ]
    },
    {
      "cell_type": "code",
      "source": [
        "print(\"Hello\" , end = '----- ')\n",
        "print(\"World\" )\n",
        "print(\"Bye\" , end = '*****')\n",
        "print(\"hello\")"
      ],
      "metadata": {
        "colab": {
          "base_uri": "https://localhost:8080/"
        },
        "id": "2bB5RVKhSOb-",
        "outputId": "4a3ffb54-70a0-4115-a1ed-179feb817d5d"
      },
      "execution_count": null,
      "outputs": [
        {
          "output_type": "stream",
          "name": "stdout",
          "text": [
            "Hello----- World\n",
            "Bye*****hello\n"
          ]
        }
      ]
    },
    {
      "cell_type": "code",
      "source": [
        "name = \"Anthony\"\n",
        "age = 23\n",
        "print(\"My name is \" , name , \" and my age is \" , age)"
      ],
      "metadata": {
        "colab": {
          "base_uri": "https://localhost:8080/"
        },
        "id": "ZCnoLkLyTZR9",
        "outputId": "c6cf67ef-bc49-4326-fc69-decaa522fd6d"
      },
      "execution_count": null,
      "outputs": [
        {
          "output_type": "stream",
          "name": "stdout",
          "text": [
            "My name is  Anthony  and my age is  23\n"
          ]
        }
      ]
    },
    {
      "cell_type": "code",
      "source": [
        "print(\"My name is {} and my age is {} \".format(name , age))"
      ],
      "metadata": {
        "colab": {
          "base_uri": "https://localhost:8080/"
        },
        "id": "COVXlbnET39-",
        "outputId": "993d1ab7-576c-4a1d-f86d-6bbd7f167a75"
      },
      "execution_count": null,
      "outputs": [
        {
          "output_type": "stream",
          "name": "stdout",
          "text": [
            "My name is 49 and my age is 67 \n"
          ]
        }
      ]
    },
    {
      "cell_type": "code",
      "source": [
        "num1 = int(input('Enter a num1: '))\n",
        "\n",
        "if num1 > 0 :\n",
        "  print(\"Number is Positive\")\n",
        "elif num1 < 0 :\n",
        "  print(\"Number is Negative\")\n",
        "else :\n",
        "  print(\"Number is Zero\")"
      ],
      "metadata": {
        "colab": {
          "base_uri": "https://localhost:8080/"
        },
        "id": "xoRqnfJTWHZe",
        "outputId": "783788d1-df61-4c1e-9b18-1ae1b5f74429"
      },
      "execution_count": null,
      "outputs": [
        {
          "output_type": "stream",
          "name": "stdout",
          "text": [
            "Enter a num1: 0\n",
            "Number is Zero\n"
          ]
        }
      ]
    },
    {
      "cell_type": "markdown",
      "source": [
        "Loops\n",
        "\n",
        "for loop  -- no of iterations\n",
        "\n",
        "while loop -- condition"
      ],
      "metadata": {
        "id": "EvLM--75XtlS"
      }
    },
    {
      "cell_type": "code",
      "source": [
        "for i in range(5):   # range(5) = [0,1,2,3,4]\n",
        "  print(\" hello world \")"
      ],
      "metadata": {
        "colab": {
          "base_uri": "https://localhost:8080/"
        },
        "id": "sMJnDVgpXrTh",
        "outputId": "7d77eef9-46d7-43db-d27f-ba44ad3624dc"
      },
      "execution_count": null,
      "outputs": [
        {
          "output_type": "stream",
          "name": "stdout",
          "text": [
            " hello world \n",
            " hello world \n",
            " hello world \n",
            " hello world \n",
            " hello world \n"
          ]
        }
      ]
    },
    {
      "cell_type": "code",
      "source": [
        "marks = [80,90,89,67]\n",
        "\n",
        "for x in marks :\n",
        "  print(x)"
      ],
      "metadata": {
        "colab": {
          "base_uri": "https://localhost:8080/"
        },
        "id": "zUDxH1pqY7dm",
        "outputId": "e9c2df73-0c12-4837-9533-bde8d60af842"
      },
      "execution_count": null,
      "outputs": [
        {
          "output_type": "stream",
          "name": "stdout",
          "text": [
            "80\n",
            "90\n",
            "89\n",
            "67\n"
          ]
        }
      ]
    },
    {
      "cell_type": "code",
      "source": [
        "names = [\"Anthony\",\"Surya\",\"Chitra\",\"Nirmala\"]\n",
        "for name in names:\n",
        "  print(name , end= '  ')"
      ],
      "metadata": {
        "colab": {
          "base_uri": "https://localhost:8080/"
        },
        "id": "-AmJg9ucZPzD",
        "outputId": "1aeec248-266b-4a41-d9b3-03d4ef81eafb"
      },
      "execution_count": null,
      "outputs": [
        {
          "output_type": "stream",
          "name": "stdout",
          "text": [
            "Anthony  Surya  Chitra  Nirmala  "
          ]
        }
      ]
    },
    {
      "cell_type": "code",
      "source": [
        "for i in range(7):   # range(7) = [0,1,2,3,4,5,6]\n",
        "    if i == 3:\n",
        "      continue\n",
        "    print(i)"
      ],
      "metadata": {
        "colab": {
          "base_uri": "https://localhost:8080/"
        },
        "id": "WTjzlLQOZtRt",
        "outputId": "f84dcbf2-b549-470d-ddc1-32a0f913aa63"
      },
      "execution_count": null,
      "outputs": [
        {
          "output_type": "stream",
          "name": "stdout",
          "text": [
            "0\n",
            "1\n",
            "2\n",
            "4\n",
            "5\n",
            "6\n"
          ]
        }
      ]
    },
    {
      "cell_type": "code",
      "source": [
        "num = 0\n",
        "\n",
        "while num < 10:\n",
        "  print(num)\n",
        "  num += 1"
      ],
      "metadata": {
        "colab": {
          "base_uri": "https://localhost:8080/"
        },
        "id": "XGUabob3aeHt",
        "outputId": "f19ff532-438f-4f5c-ac31-a45d8bbeea43"
      },
      "execution_count": null,
      "outputs": [
        {
          "output_type": "stream",
          "name": "stdout",
          "text": [
            "0\n",
            "1\n",
            "2\n",
            "3\n",
            "4\n",
            "5\n",
            "6\n",
            "7\n",
            "8\n",
            "9\n"
          ]
        }
      ]
    },
    {
      "cell_type": "code",
      "source": [
        "num = 10\n",
        "while num > 0 :\n",
        "  print(num)\n",
        "  num -= 1"
      ],
      "metadata": {
        "colab": {
          "base_uri": "https://localhost:8080/"
        },
        "id": "rkiFf0u5as8o",
        "outputId": "602d6dfd-889b-4fa3-f32b-acba41d94358"
      },
      "execution_count": null,
      "outputs": [
        {
          "output_type": "stream",
          "name": "stdout",
          "text": [
            "10\n",
            "9\n",
            "8\n",
            "7\n",
            "6\n",
            "5\n",
            "4\n",
            "3\n",
            "2\n",
            "1\n"
          ]
        }
      ]
    },
    {
      "cell_type": "code",
      "source": [
        "num = int(input('Enter a num : '))\n",
        "\n",
        "sum = 0\n",
        "while num!=0 :\n",
        "  sum += num\n",
        "  num = int(input('Enter a num: '))\n",
        "\n",
        "print(sum)"
      ],
      "metadata": {
        "colab": {
          "base_uri": "https://localhost:8080/"
        },
        "id": "uRq2kTKzbmQm",
        "outputId": "1b7a4764-53c4-49d8-de92-189c544f1d99"
      },
      "execution_count": null,
      "outputs": [
        {
          "output_type": "stream",
          "name": "stdout",
          "text": [
            "Enter a num : 5\n",
            "Enter a num: 5\n",
            "Enter a num: 10\n",
            "Enter a num: 0\n",
            "20\n"
          ]
        }
      ]
    },
    {
      "cell_type": "markdown",
      "source": [
        "List - []\n",
        "\n",
        "Ordered , Mutable , Duplicates allowed  \n",
        "\n",
        "\n",
        "Tuple - ()\n",
        "\n",
        "Ordered , Immutable  , Duplicates allowed"
      ],
      "metadata": {
        "id": "-lah09DmgNC8"
      }
    },
    {
      "cell_type": "code",
      "source": [
        "marks = [80,90,89,70]\n",
        "print(marks)"
      ],
      "metadata": {
        "colab": {
          "base_uri": "https://localhost:8080/"
        },
        "id": "l77kyHaKgOOY",
        "outputId": "b3fc7bd4-0b22-46f2-9fe7-d4647ffcba37"
      },
      "execution_count": null,
      "outputs": [
        {
          "output_type": "stream",
          "name": "stdout",
          "text": [
            "[80, 90, 89, 70]\n"
          ]
        }
      ]
    },
    {
      "cell_type": "code",
      "source": [
        "print(marks[1])"
      ],
      "metadata": {
        "colab": {
          "base_uri": "https://localhost:8080/"
        },
        "id": "PA8Zcc8hgb0G",
        "outputId": "2d61c738-b341-45b8-91e2-ebe22a9cb093"
      },
      "execution_count": null,
      "outputs": [
        {
          "output_type": "stream",
          "name": "stdout",
          "text": [
            "90\n"
          ]
        }
      ]
    },
    {
      "cell_type": "code",
      "source": [
        "print(marks[-2])"
      ],
      "metadata": {
        "colab": {
          "base_uri": "https://localhost:8080/"
        },
        "id": "RTBTCx9WgiNc",
        "outputId": "2b9e54d4-19b6-40b8-ae73-306218ff107d"
      },
      "execution_count": null,
      "outputs": [
        {
          "output_type": "stream",
          "name": "stdout",
          "text": [
            "89\n"
          ]
        }
      ]
    },
    {
      "cell_type": "code",
      "source": [
        "print(marks[1:3])"
      ],
      "metadata": {
        "colab": {
          "base_uri": "https://localhost:8080/"
        },
        "id": "fn4NTX9XgtbI",
        "outputId": "3f696cdd-c2ee-403d-a55d-2a4ebf9b0fac"
      },
      "execution_count": null,
      "outputs": [
        {
          "output_type": "stream",
          "name": "stdout",
          "text": [
            "[90, 89]\n"
          ]
        }
      ]
    },
    {
      "cell_type": "code",
      "source": [
        "print(marks)\n",
        "marks[1] = 89\n",
        "print(marks)"
      ],
      "metadata": {
        "colab": {
          "base_uri": "https://localhost:8080/"
        },
        "id": "tMeVgg-phDqy",
        "outputId": "76f9fd8d-278c-4ccd-e5a3-005dcdc6a15f"
      },
      "execution_count": null,
      "outputs": [
        {
          "output_type": "stream",
          "name": "stdout",
          "text": [
            "[80, 90, 89, 70]\n",
            "[80, 89, 89, 70]\n"
          ]
        }
      ]
    },
    {
      "cell_type": "code",
      "source": [
        "marks.append(65)\n",
        "print(marks)"
      ],
      "metadata": {
        "colab": {
          "base_uri": "https://localhost:8080/"
        },
        "id": "l1u5q7sXhWs0",
        "outputId": "85ce1fba-60f4-465f-82c2-76f94edd6438"
      },
      "execution_count": null,
      "outputs": [
        {
          "output_type": "stream",
          "name": "stdout",
          "text": [
            "[80, 89, 89, 70, 65]\n"
          ]
        }
      ]
    },
    {
      "cell_type": "code",
      "source": [
        "marks.insert(1,78)\n",
        "print(marks)"
      ],
      "metadata": {
        "colab": {
          "base_uri": "https://localhost:8080/"
        },
        "id": "iwA8v39Lhprs",
        "outputId": "7fe42530-ad5d-4720-a1ea-a077a398f61c"
      },
      "execution_count": null,
      "outputs": [
        {
          "output_type": "stream",
          "name": "stdout",
          "text": [
            "[80, 78, 89, 89, 70, 65]\n"
          ]
        }
      ]
    },
    {
      "cell_type": "code",
      "source": [
        "marks.extend([89,78,67])\n",
        "print(marks)"
      ],
      "metadata": {
        "colab": {
          "base_uri": "https://localhost:8080/"
        },
        "id": "-GsHwon0h4L7",
        "outputId": "81b6f545-5b09-4bd8-81a6-dd78dd7d99e1"
      },
      "execution_count": null,
      "outputs": [
        {
          "output_type": "stream",
          "name": "stdout",
          "text": [
            "[80, 78, 89, 89, 70, 65, 89, 78, 67]\n"
          ]
        }
      ]
    },
    {
      "cell_type": "code",
      "source": [
        "marks.remove(78)"
      ],
      "metadata": {
        "id": "PLxVuaL5iI0p"
      },
      "execution_count": null,
      "outputs": []
    },
    {
      "cell_type": "code",
      "source": [
        "print(marks)"
      ],
      "metadata": {
        "colab": {
          "base_uri": "https://localhost:8080/"
        },
        "id": "2sxF9ZbgiM8F",
        "outputId": "be57fe49-8b9c-4e3d-e3ca-574ad2fc8288"
      },
      "execution_count": null,
      "outputs": [
        {
          "output_type": "stream",
          "name": "stdout",
          "text": [
            "[80, 89, 89, 70, 65, 89, 78, 67]\n"
          ]
        }
      ]
    },
    {
      "cell_type": "code",
      "source": [
        "del marks[1:4]\n",
        "print(marks)"
      ],
      "metadata": {
        "colab": {
          "base_uri": "https://localhost:8080/"
        },
        "id": "a7UGPz2KiT9L",
        "outputId": "309e2cab-d18d-4333-b345-7d3fd79b4e8f"
      },
      "execution_count": null,
      "outputs": [
        {
          "output_type": "stream",
          "name": "stdout",
          "text": [
            "[80, 89, 78, 67]\n"
          ]
        }
      ]
    },
    {
      "cell_type": "code",
      "source": [
        "for mark in marks :\n",
        "  print(mark)"
      ],
      "metadata": {
        "colab": {
          "base_uri": "https://localhost:8080/"
        },
        "id": "fehLMbZrik9P",
        "outputId": "294ce701-48a7-4dda-f80e-10c90025f32d"
      },
      "execution_count": null,
      "outputs": [
        {
          "output_type": "stream",
          "name": "stdout",
          "text": [
            "80\n",
            "89\n",
            "78\n",
            "67\n"
          ]
        }
      ]
    },
    {
      "cell_type": "code",
      "source": [
        "marks.count(89)"
      ],
      "metadata": {
        "colab": {
          "base_uri": "https://localhost:8080/"
        },
        "id": "UnBdI6PnixjL",
        "outputId": "2072262a-9725-4cf6-ffc3-8f8cff0f36c0"
      },
      "execution_count": null,
      "outputs": [
        {
          "output_type": "execute_result",
          "data": {
            "text/plain": [
              "1"
            ]
          },
          "metadata": {},
          "execution_count": 88
        }
      ]
    },
    {
      "cell_type": "code",
      "source": [
        "marks.sort(reverse = True)\n",
        "print(marks)"
      ],
      "metadata": {
        "colab": {
          "base_uri": "https://localhost:8080/"
        },
        "id": "FusbB7Bli1ke",
        "outputId": "0be3e0a4-2346-4abb-e8df-83484d514398"
      },
      "execution_count": null,
      "outputs": [
        {
          "output_type": "stream",
          "name": "stdout",
          "text": [
            "[89, 80, 78, 67]\n"
          ]
        }
      ]
    },
    {
      "cell_type": "code",
      "source": [
        "marks.reverse()\n",
        "print(marks)"
      ],
      "metadata": {
        "colab": {
          "base_uri": "https://localhost:8080/"
        },
        "id": "Ja6IZrAEjLkO",
        "outputId": "8e8b4b69-c8dc-48e6-b602-a591dfd56e12"
      },
      "execution_count": null,
      "outputs": [
        {
          "output_type": "stream",
          "name": "stdout",
          "text": [
            "[67, 78, 80, 89]\n"
          ]
        }
      ]
    },
    {
      "cell_type": "markdown",
      "source": [
        "Tuples"
      ],
      "metadata": {
        "id": "zsVghXDWjtXl"
      }
    },
    {
      "cell_type": "code",
      "source": [
        "ages = (22,23,24,22)\n",
        "print(ages)"
      ],
      "metadata": {
        "colab": {
          "base_uri": "https://localhost:8080/"
        },
        "id": "Y9CPyF4Djmt1",
        "outputId": "01e0e574-0500-45ef-c190-5ad83cb7b113"
      },
      "execution_count": null,
      "outputs": [
        {
          "output_type": "stream",
          "name": "stdout",
          "text": [
            "(22, 23, 24, 22)\n"
          ]
        }
      ]
    },
    {
      "cell_type": "code",
      "source": [
        "print(ages[1:3])"
      ],
      "metadata": {
        "colab": {
          "base_uri": "https://localhost:8080/"
        },
        "id": "md5_poMVjslZ",
        "outputId": "2c096f34-b6d1-4ca4-d3cb-329c638bcfce"
      },
      "execution_count": null,
      "outputs": [
        {
          "output_type": "stream",
          "name": "stdout",
          "text": [
            "(23, 24)\n"
          ]
        }
      ]
    },
    {
      "cell_type": "code",
      "source": [
        "for age in ages:\n",
        "  print(age)"
      ],
      "metadata": {
        "colab": {
          "base_uri": "https://localhost:8080/"
        },
        "id": "PRVYbOY8j2QE",
        "outputId": "fc6d3d9e-0739-4e96-fe12-fb1a0f12a235"
      },
      "execution_count": null,
      "outputs": [
        {
          "output_type": "stream",
          "name": "stdout",
          "text": [
            "22\n",
            "23\n",
            "24\n",
            "22\n"
          ]
        }
      ]
    },
    {
      "cell_type": "markdown",
      "source": [
        "Set : {}\n",
        "\n",
        "\n",
        "Dont allow duplicates"
      ],
      "metadata": {
        "id": "XLJRdxL-kXcu"
      }
    },
    {
      "cell_type": "code",
      "source": [
        "marks = {10,10,10,20,20,30,30}\n",
        "print(marks)"
      ],
      "metadata": {
        "colab": {
          "base_uri": "https://localhost:8080/"
        },
        "id": "083ipOQxkXHT",
        "outputId": "7c7ab1d3-ea0d-4d4f-bb83-cf3bc2e4960c"
      },
      "execution_count": null,
      "outputs": [
        {
          "output_type": "stream",
          "name": "stdout",
          "text": [
            "{10, 20, 30}\n"
          ]
        }
      ]
    },
    {
      "cell_type": "code",
      "source": [
        "marks.add(40)\n",
        "print(marks)"
      ],
      "metadata": {
        "colab": {
          "base_uri": "https://localhost:8080/"
        },
        "id": "k5XVs9OClJWf",
        "outputId": "cf67d80b-e70b-4df2-e19d-57c199ff2134"
      },
      "execution_count": null,
      "outputs": [
        {
          "output_type": "stream",
          "name": "stdout",
          "text": [
            "{40, 10, 20, 30}\n"
          ]
        }
      ]
    },
    {
      "cell_type": "code",
      "source": [
        "marks.update([40,40,50,50,60,60,70])\n",
        "print(marks)"
      ],
      "metadata": {
        "colab": {
          "base_uri": "https://localhost:8080/"
        },
        "id": "SLL2CD_pljeg",
        "outputId": "c1b21605-7180-44c7-bb3c-e94ee547d4ac"
      },
      "execution_count": null,
      "outputs": [
        {
          "output_type": "stream",
          "name": "stdout",
          "text": [
            "{70, 40, 10, 50, 20, 60, 30}\n"
          ]
        }
      ]
    },
    {
      "cell_type": "code",
      "source": [
        "marks.discard(40)\n",
        "print(marks)"
      ],
      "metadata": {
        "colab": {
          "base_uri": "https://localhost:8080/"
        },
        "id": "vHOG_-u3l1F2",
        "outputId": "8dcac728-6e1a-421c-bf35-6c15540cd85b"
      },
      "execution_count": null,
      "outputs": [
        {
          "output_type": "stream",
          "name": "stdout",
          "text": [
            "{70, 10, 50, 20, 60, 30}\n"
          ]
        }
      ]
    },
    {
      "cell_type": "code",
      "source": [
        "print(len(marks))"
      ],
      "metadata": {
        "colab": {
          "base_uri": "https://localhost:8080/"
        },
        "id": "6qtn6nTHl6wW",
        "outputId": "544b590c-f7b4-4c3d-a0d2-d751f65f25ca"
      },
      "execution_count": null,
      "outputs": [
        {
          "output_type": "stream",
          "name": "stdout",
          "text": [
            "6\n"
          ]
        }
      ]
    },
    {
      "cell_type": "code",
      "source": [
        "print(max(marks))"
      ],
      "metadata": {
        "colab": {
          "base_uri": "https://localhost:8080/"
        },
        "id": "uvfLXfrQmI6e",
        "outputId": "22b0e1e2-a299-425f-b944-13ae2f5db2fe"
      },
      "execution_count": null,
      "outputs": [
        {
          "output_type": "stream",
          "name": "stdout",
          "text": [
            "70\n"
          ]
        }
      ]
    },
    {
      "cell_type": "code",
      "source": [
        "print(min(marks))"
      ],
      "metadata": {
        "colab": {
          "base_uri": "https://localhost:8080/"
        },
        "id": "bIOAM65zmOr2",
        "outputId": "ec236608-b70e-4250-e029-decd82a4d8c1"
      },
      "execution_count": null,
      "outputs": [
        {
          "output_type": "stream",
          "name": "stdout",
          "text": [
            "10\n"
          ]
        }
      ]
    },
    {
      "cell_type": "code",
      "source": [
        "for mark in marks:\n",
        "  print(mark)"
      ],
      "metadata": {
        "colab": {
          "base_uri": "https://localhost:8080/"
        },
        "id": "9GFKb71QnWYK",
        "outputId": "102d33f7-5846-4d20-e865-52cb54921c52"
      },
      "execution_count": null,
      "outputs": [
        {
          "output_type": "stream",
          "name": "stdout",
          "text": [
            "70\n",
            "10\n",
            "50\n",
            "20\n",
            "60\n",
            "30\n"
          ]
        }
      ]
    },
    {
      "cell_type": "code",
      "source": [
        "A = { 10,11,12,13,14,15}\n",
        "B = { 13,14,15,16,17}"
      ],
      "metadata": {
        "id": "ESs2jAZGuWOY"
      },
      "execution_count": null,
      "outputs": []
    },
    {
      "cell_type": "code",
      "source": [
        "print(A.intersection(B))\n",
        "print( A & B )"
      ],
      "metadata": {
        "colab": {
          "base_uri": "https://localhost:8080/"
        },
        "id": "w7jX3A-LucaZ",
        "outputId": "0be93938-a24b-4400-e734-8e7457a238d8"
      },
      "execution_count": null,
      "outputs": [
        {
          "output_type": "stream",
          "name": "stdout",
          "text": [
            "{13, 14, 15}\n",
            "{13, 14, 15}\n"
          ]
        }
      ]
    },
    {
      "cell_type": "code",
      "source": [
        "print(A.union(B))\n",
        "print(A | B )"
      ],
      "metadata": {
        "colab": {
          "base_uri": "https://localhost:8080/"
        },
        "id": "gvEpwonfuzhj",
        "outputId": "3958cd55-6a33-4b11-f1bd-79e9270c3b92"
      },
      "execution_count": null,
      "outputs": [
        {
          "output_type": "stream",
          "name": "stdout",
          "text": [
            "{10, 11, 12, 13, 14, 15, 16, 17}\n",
            "{10, 11, 12, 13, 14, 15, 16, 17}\n"
          ]
        }
      ]
    },
    {
      "cell_type": "code",
      "source": [
        "print(A.difference(B))\n",
        "print(A-B)"
      ],
      "metadata": {
        "colab": {
          "base_uri": "https://localhost:8080/"
        },
        "id": "DFE4rYw0vXsa",
        "outputId": "f06e4b44-4652-426e-afdf-870590393680"
      },
      "execution_count": null,
      "outputs": [
        {
          "output_type": "stream",
          "name": "stdout",
          "text": [
            "{10, 11, 12}\n",
            "{10, 11, 12}\n"
          ]
        }
      ]
    },
    {
      "cell_type": "code",
      "source": [
        "print(A.symmetric_difference(B))\n",
        "print(A ^ B)"
      ],
      "metadata": {
        "colab": {
          "base_uri": "https://localhost:8080/"
        },
        "id": "kHDFajfCv89M",
        "outputId": "651071e9-0ca9-4612-e1ce-3c6396c61989"
      },
      "execution_count": null,
      "outputs": [
        {
          "output_type": "stream",
          "name": "stdout",
          "text": [
            "{16, 17, 10, 11, 12}\n",
            "{16, 17, 10, 11, 12}\n"
          ]
        }
      ]
    },
    {
      "cell_type": "markdown",
      "source": [
        " Dictionary ( key - value )\n",
        "\n"
      ],
      "metadata": {
        "id": "B8x15leWKGch"
      }
    },
    {
      "cell_type": "code",
      "source": [
        "person = {\n",
        "    \"name\" : \"Alice\",\n",
        "    \"age\" : 23,\n",
        "    \"course\":\"Data Science\"\n",
        "}\n",
        "print(person)"
      ],
      "metadata": {
        "colab": {
          "base_uri": "https://localhost:8080/"
        },
        "id": "BZkRhDV_KRfr",
        "outputId": "0f73a5f3-a4b4-4183-ca86-656b5a4675c0"
      },
      "execution_count": null,
      "outputs": [
        {
          "output_type": "stream",
          "name": "stdout",
          "text": [
            "{'name': 'Alice', 'age': 23, 'course': 'Data Science'}\n"
          ]
        }
      ]
    },
    {
      "cell_type": "code",
      "source": [
        "print(person[\"age\"])"
      ],
      "metadata": {
        "colab": {
          "base_uri": "https://localhost:8080/"
        },
        "id": "vpYau4ypKStw",
        "outputId": "78ebe3f3-a664-4b32-d2b6-f15483e7da13"
      },
      "execution_count": null,
      "outputs": [
        {
          "output_type": "stream",
          "name": "stdout",
          "text": [
            "23\n"
          ]
        }
      ]
    },
    {
      "cell_type": "code",
      "source": [
        "person[\"age\"] = 22"
      ],
      "metadata": {
        "id": "adw1LUzTKxTa"
      },
      "execution_count": null,
      "outputs": []
    },
    {
      "cell_type": "code",
      "source": [
        "print(person[\"age\"])"
      ],
      "metadata": {
        "colab": {
          "base_uri": "https://localhost:8080/"
        },
        "id": "TG7mHtqwK0Ny",
        "outputId": "bcec0c58-43ce-481b-b93a-73b35543d4fb"
      },
      "execution_count": null,
      "outputs": [
        {
          "output_type": "stream",
          "name": "stdout",
          "text": [
            "22\n"
          ]
        }
      ]
    },
    {
      "cell_type": "code",
      "source": [
        "person[\"country\"] = 'USA'\n",
        "print(person)"
      ],
      "metadata": {
        "colab": {
          "base_uri": "https://localhost:8080/"
        },
        "id": "hDdPWJYcK5wz",
        "outputId": "decb3510-e522-4f7c-a667-04331f1ff5a4"
      },
      "execution_count": null,
      "outputs": [
        {
          "output_type": "stream",
          "name": "stdout",
          "text": [
            "{'name': 'Alice', 'age': 22, 'course': 'Data Science', 'country': 'USA'}\n"
          ]
        }
      ]
    },
    {
      "cell_type": "code",
      "source": [
        "del person[\"country\"]\n",
        "print(person)"
      ],
      "metadata": {
        "colab": {
          "base_uri": "https://localhost:8080/"
        },
        "id": "YbFplKT0LLXG",
        "outputId": "29a35d8d-a91e-454e-d9ae-00f84afb6491"
      },
      "execution_count": null,
      "outputs": [
        {
          "output_type": "stream",
          "name": "stdout",
          "text": [
            "{'name': 'Alice', 'age': 22, 'course': 'Data Science'}\n"
          ]
        }
      ]
    },
    {
      "cell_type": "code",
      "source": [
        "for x in person:\n",
        "  print(x , person[x])"
      ],
      "metadata": {
        "colab": {
          "base_uri": "https://localhost:8080/"
        },
        "id": "HO5BOCUPLWLd",
        "outputId": "dc57938f-4fd5-4bab-82ea-6fea7fdd5d7b"
      },
      "execution_count": null,
      "outputs": [
        {
          "output_type": "stream",
          "name": "stdout",
          "text": [
            "name Alice\n",
            "age 22\n",
            "course Data Science\n"
          ]
        }
      ]
    },
    {
      "cell_type": "code",
      "source": [
        "print(len(person))"
      ],
      "metadata": {
        "colab": {
          "base_uri": "https://localhost:8080/"
        },
        "id": "0VfoxcEaLn30",
        "outputId": "285d5898-fa82-4912-f57d-9f05a37476cd"
      },
      "execution_count": null,
      "outputs": [
        {
          "output_type": "stream",
          "name": "stdout",
          "text": [
            "3\n"
          ]
        }
      ]
    },
    {
      "cell_type": "code",
      "source": [
        "person.keys()"
      ],
      "metadata": {
        "colab": {
          "base_uri": "https://localhost:8080/"
        },
        "id": "PZ6wrWKELvQI",
        "outputId": "c8eb16e1-97d8-4ec0-ef62-55223dca1078"
      },
      "execution_count": null,
      "outputs": [
        {
          "output_type": "execute_result",
          "data": {
            "text/plain": [
              "dict_keys(['name', 'age', 'course'])"
            ]
          },
          "metadata": {},
          "execution_count": 16
        }
      ]
    },
    {
      "cell_type": "code",
      "source": [
        "person.values()"
      ],
      "metadata": {
        "colab": {
          "base_uri": "https://localhost:8080/"
        },
        "id": "dlC6pvhrLx4p",
        "outputId": "72df4736-3e50-4ace-db80-506a75aa38cf"
      },
      "execution_count": null,
      "outputs": [
        {
          "output_type": "execute_result",
          "data": {
            "text/plain": [
              "dict_values(['Alice', 22, 'Data Science'])"
            ]
          },
          "metadata": {},
          "execution_count": 17
        }
      ]
    },
    {
      "cell_type": "code",
      "source": [
        "person = {\"name\" : \"alice\" , \"name\" : \"xyz\"}\n",
        "print(person)"
      ],
      "metadata": {
        "colab": {
          "base_uri": "https://localhost:8080/"
        },
        "id": "TJEIa1HTL-a1",
        "outputId": "38ae49ba-9d8e-4809-a462-f794f333535d"
      },
      "execution_count": null,
      "outputs": [
        {
          "output_type": "stream",
          "name": "stdout",
          "text": [
            "{'name': 'xyz'}\n"
          ]
        }
      ]
    },
    {
      "cell_type": "markdown",
      "source": [
        "Functions"
      ],
      "metadata": {
        "id": "V_bVxypxMaMR"
      }
    },
    {
      "cell_type": "code",
      "source": [
        "def hello(name):\n",
        "  print(\"hello \",name)\n",
        "\n",
        "\n",
        "hello(\"Alice\")"
      ],
      "metadata": {
        "colab": {
          "base_uri": "https://localhost:8080/"
        },
        "id": "MYNe1HB_M8P1",
        "outputId": "9714a07b-ea19-4b70-c9d7-acb536ffa5b8"
      },
      "execution_count": null,
      "outputs": [
        {
          "output_type": "stream",
          "name": "stdout",
          "text": [
            "hello  Alice\n"
          ]
        }
      ]
    },
    {
      "cell_type": "code",
      "source": [
        "def add_two_num(a,b):\n",
        "  return a**b\n",
        "\n",
        "\n",
        "\n",
        "res = add_two_num(3,4)\n",
        "res *=2\n",
        "print(res)\n"
      ],
      "metadata": {
        "colab": {
          "base_uri": "https://localhost:8080/"
        },
        "id": "pHj3SQSHNZsb",
        "outputId": "d918854e-37a6-4b3c-e5fc-b0376702d81a"
      },
      "execution_count": null,
      "outputs": [
        {
          "output_type": "stream",
          "name": "stdout",
          "text": [
            "162\n"
          ]
        }
      ]
    },
    {
      "cell_type": "markdown",
      "source": [
        "write a function func1 which will list as input and return sum of all elements\n",
        "\n",
        "write a function func2 which will take int n as input and print all even numbers from 0 to n\n",
        "\n",
        "write a funcrion func3 which will take  int list as inpout and return diff of max and min elements\n",
        "\n"
      ],
      "metadata": {
        "id": "oOxvuqNQPEgC"
      }
    },
    {
      "cell_type": "code",
      "source": [
        "def sum_list(mylist):\n",
        "  # return sum of list\n",
        "  sum = 0\n",
        "  for x in mylist:\n",
        "    sum += x\n",
        "  return sum\n",
        "\n",
        "res = sum_list([1,2,3,4,5,6])\n",
        "print(res)"
      ],
      "metadata": {
        "colab": {
          "base_uri": "https://localhost:8080/"
        },
        "id": "Zqnwh8JOVg-h",
        "outputId": "d0bd7446-f56a-47ef-b9d2-65ec023eb635"
      },
      "execution_count": null,
      "outputs": [
        {
          "output_type": "stream",
          "name": "stdout",
          "text": [
            "21\n"
          ]
        }
      ]
    },
    {
      "cell_type": "code",
      "source": [
        "for x in range(10):\n",
        "  if x%2 == 0:\n",
        "    print(x)"
      ],
      "metadata": {
        "colab": {
          "base_uri": "https://localhost:8080/"
        },
        "id": "lJBVcytjWSDJ",
        "outputId": "a78ad061-f630-4b52-d5c9-d98e9ffbd169"
      },
      "execution_count": null,
      "outputs": [
        {
          "output_type": "stream",
          "name": "stdout",
          "text": [
            "0\n",
            "2\n",
            "4\n",
            "6\n",
            "8\n"
          ]
        }
      ]
    },
    {
      "cell_type": "code",
      "source": [
        "def func(n):\n",
        "  for x in range(n):\n",
        "    if x%2 == 0 :\n",
        "      print(x)\n",
        "\n",
        "\n",
        "func(10)"
      ],
      "metadata": {
        "colab": {
          "base_uri": "https://localhost:8080/"
        },
        "id": "hcg0J6QDWboE",
        "outputId": "cd586df4-048d-47d0-ca7d-98cf00246e05"
      },
      "execution_count": null,
      "outputs": [
        {
          "output_type": "stream",
          "name": "stdout",
          "text": [
            "0\n",
            "2\n",
            "4\n",
            "6\n",
            "8\n"
          ]
        }
      ]
    },
    {
      "cell_type": "code",
      "source": [
        "for x in range(10):\n",
        "  print(x)"
      ],
      "metadata": {
        "colab": {
          "base_uri": "https://localhost:8080/"
        },
        "id": "lWZIHL-1YGwH",
        "outputId": "5e344610-a4e8-409a-a2ca-cae19a8df92f"
      },
      "execution_count": null,
      "outputs": [
        {
          "output_type": "stream",
          "name": "stdout",
          "text": [
            "0\n",
            "1\n",
            "2\n",
            "3\n",
            "4\n",
            "5\n",
            "6\n",
            "7\n",
            "8\n",
            "9\n"
          ]
        }
      ]
    },
    {
      "cell_type": "code",
      "source": [
        "class Student:\n",
        "  def __init__(self , name , age):\n",
        "    self.name = name      # s1.name = \"alice\"   s2.age = \"John\"\n",
        "    self.age = age   # s1.age = 23   s2.age = 24\n",
        "\n",
        "  def my_info(self):\n",
        "    print(self.name , self.age)   # s1.name , s1.age     # s2.age s2.name\n",
        "\n",
        "\n",
        "s1 = Student(\"Alice\", 23)\n",
        "s1.my_info()\n",
        "\n",
        "\n",
        "s2 = Student(\"John\" , 24)\n",
        "s2.my_info()"
      ],
      "metadata": {
        "colab": {
          "base_uri": "https://localhost:8080/"
        },
        "id": "WPD4Uyy_ZRGY",
        "outputId": "24c4468e-7319-41f4-93dd-87a714159640"
      },
      "execution_count": null,
      "outputs": [
        {
          "output_type": "stream",
          "name": "stdout",
          "text": [
            "Alice 23\n",
            "John 24\n"
          ]
        }
      ]
    },
    {
      "cell_type": "code",
      "source": [
        "class Shape:\n",
        "  def __init__(self , no_of_sides , color):\n",
        "    self.no_of_sides = no_of_sides\n",
        "    self.color = color\n",
        "\n",
        "  def my_info(self):\n",
        "    print(self.no_of_sides , self.color)\n",
        "\n",
        "\n",
        "\n",
        "s1 = Shape(4,\"red\")\n",
        "s2 = Shape(6,\"Blue\")\n",
        "s1.my_info()\n",
        "s2.my_info()"
      ],
      "metadata": {
        "colab": {
          "base_uri": "https://localhost:8080/"
        },
        "id": "GtRS0ccMbPDz",
        "outputId": "7b82e10a-803f-485b-aa40-a84f2dc6e7e7"
      },
      "execution_count": null,
      "outputs": [
        {
          "output_type": "stream",
          "name": "stdout",
          "text": [
            "4 red\n",
            "6 Blue\n"
          ]
        }
      ]
    },
    {
      "cell_type": "markdown",
      "source": [
        "create a class name square\n",
        "with properties\n",
        "length\n",
        "and methods\n",
        "area\n",
        "perimeter\n",
        "and then create two objects with diff length and pritn area and permimeter\n",
        "\n",
        "\n",
        "\n",
        "\n",
        "create a class name Rectangle\n",
        "with properties\n",
        "length  = 10 , width = 5 , color = \"blue\n",
        "and methods\n",
        "area\n",
        "perimeter\n",
        "getInfo --> l ,w , c\n",
        "and then create two objects with diff length , width , color and pritn area and permimeter , getInfo"
      ],
      "metadata": {
        "id": "t2h_p6AWb7CL"
      }
    },
    {
      "cell_type": "code",
      "source": [
        "class Square:\n",
        "  def __init__(self , length = 10):\n",
        "    self.length = length\n",
        "\n",
        "  def area(self):\n",
        "    return self.length*self.length\n",
        "\n",
        "  def peri(self):\n",
        "    return 4*self.length\n",
        "\n",
        "s1 = Square()   # length = 10\n",
        "s2 = Square(5)   # length = 5\n",
        "\n",
        "\n",
        "print(s1.area())   # 100\n",
        "print(s1.peri())   # 40\n",
        "\n",
        "\n",
        "\n",
        "print(s2.area())   # 25\n",
        "print(s2.peri())   # 20"
      ],
      "metadata": {
        "colab": {
          "base_uri": "https://localhost:8080/"
        },
        "id": "kaXCwgCvmXov",
        "outputId": "9795d41b-011c-46d3-97dc-c175e713c7f6"
      },
      "execution_count": null,
      "outputs": [
        {
          "output_type": "stream",
          "name": "stdout",
          "text": [
            "100\n",
            "40\n",
            "25\n",
            "20\n"
          ]
        }
      ]
    },
    {
      "cell_type": "code",
      "source": [
        "class Person:\n",
        "  def __init__(self , name = \"Alice\" , age = 23):\n",
        "    self.name = name\n",
        "    self.age = age\n",
        "\n",
        "  def my_info(self):\n",
        "    print(\"Hello I am \",self.name,\" and my age is \",self.age)\n",
        "\n",
        "\n",
        "p1 = Person()\n",
        "p2 = Person(\"John\",24)\n",
        "p1.my_info()\n",
        "p2.my_info()"
      ],
      "metadata": {
        "colab": {
          "base_uri": "https://localhost:8080/"
        },
        "id": "EDYCo_iAR1J5",
        "outputId": "5e8291fd-2911-4891-9a3d-0b96e67c1cac"
      },
      "execution_count": null,
      "outputs": [
        {
          "output_type": "stream",
          "name": "stdout",
          "text": [
            "Hello I am  Alice  and my age is  23\n",
            "Hello I am  John  and my age is  24\n"
          ]
        }
      ]
    },
    {
      "cell_type": "code",
      "source": [
        "class Student(Person):\n",
        "\n",
        "  def __init__(self , name =\"Alice\" , age =23 , rollno = 101, course =\"Data science\"):\n",
        "    super().__init__(name,age)\n",
        "    self.rollno=rollno\n",
        "    self.course = course\n",
        "\n",
        "\n",
        "  def my_detailed_info(self):\n",
        "    print(self.name,self.age , self.rollno , self.course)\n",
        "\n",
        "\n",
        "s1 = Student(\"John\",22,1000,\"Python\")\n",
        "s1.my_info()\n",
        "s1.my_detailed_info()"
      ],
      "metadata": {
        "colab": {
          "base_uri": "https://localhost:8080/"
        },
        "id": "jtIG59y1TYNt",
        "outputId": "2ada033d-ac97-4f3e-e457-4a1f7e3e59f1"
      },
      "execution_count": null,
      "outputs": [
        {
          "output_type": "stream",
          "name": "stdout",
          "text": [
            "Hello I am  John  and my age is  22\n",
            "John 22 1000 Python\n"
          ]
        }
      ]
    },
    {
      "cell_type": "code",
      "source": [
        "class Instructor(Person):\n",
        "\n",
        "  def __init__(self , name = \"John\" , age = 45 , id = 1009 , course =\"Data Science\" , batch = 2024):\n",
        "    super().__init__(name , age)\n",
        "    self.id = id\n",
        "    self.course = course\n",
        "    self.batch = batch\n",
        "\n",
        "  def my_detailed_info(self):\n",
        "    print(self.name , self.age , self.id , self.course , self.batch)\n",
        "\n",
        "i1 = Instructor()\n",
        "i1.my_info()\n",
        "i1.my_detailed_info()"
      ],
      "metadata": {
        "colab": {
          "base_uri": "https://localhost:8080/"
        },
        "id": "SmUDLL7FV4kk",
        "outputId": "1d705385-d4f3-49ed-c2b9-f919317d4eed"
      },
      "execution_count": null,
      "outputs": [
        {
          "output_type": "stream",
          "name": "stdout",
          "text": [
            "Hello I am  John  and my age is  45\n",
            "John 45 1009 Data Science 2024\n"
          ]
        }
      ]
    },
    {
      "cell_type": "markdown",
      "source": [
        "Task\n",
        "\n",
        "\n",
        "create a base class 'Account' with attributes account_number and balance . It should have methods deposits and withdraw() to add or subtract money from balance respectively\n",
        "\n",
        "\n",
        "create two subclasses 'SavingAccount' and 'checkingAccount'\n",
        "\n",
        "\n",
        "SavingAccount should have additional attribute interest_rate . it should override widthdraw() method to prevent overdraft by checking if withdrawal amouint is greater than balance\n",
        "\n",
        "\n",
        "\n",
        "CheckingAccount should have additional attribute transaction_fee . it should override withdraw() to apply transaction_fee for each withdraw\n",
        "\n",
        "\n",
        "implement method display_balance in each subclass to display the account balance for every transaction\n",
        "\n",
        "create sample objects"
      ],
      "metadata": {
        "id": "nlHB2FpfZtUG"
      }
    },
    {
      "cell_type": "code",
      "source": [
        "# prompt: Task\n",
        "# create a base class 'Account' with attributes account_number and balance . It should have methods deposits and withdraw() to add or subtract money from balance respectively\n",
        "# create two subclasses 'SavingAccount' and 'checkingAccount'\n",
        "# SavingAccount should have additional attribute interest_rate . it should override widthdraw() method to prevent overdraft by checking if withdrawal amouint is\n",
        "\n",
        "class Account:\n",
        "    def __init__(self, account_number, balance):\n",
        "    self.account_number = account_number\n",
        "        self.balance = balance\n",
        "\n",
        "    def deposit(self, amount):\n",
        "    self.balance += amount\n",
        "\n",
        "    def withdraw(self, amount):\n",
        "        self.balance -= amount\n",
        "\n",
        "    def display_balance(self):\n",
        "        print(f\"Account Number: {self.account_number}, Balance: {self.balance}\")\n",
        "\n",
        "\n",
        "class SavingsAccount(Account):\n",
        "    def __init__(self, account_number, balance, interest_rate):\n",
        "        super().__init__(account_number, balance)\n",
        "        self.interest_rate = interest_rate\n",
        "\n",
        "    def withdraw(self, amount):\n",
        "        if amount > self.balance:\n",
        "            print(\"Insufficient funds\")\n",
        "        else:\n",
        "            self.balance -= amount\n",
        "\n",
        "    def display_balance(self):\n",
        "        print(f\"Account Number: {self.account_number}, Balance: {self.balance}, Interest Rate: {self.interest_rate}\")\n",
        "\n",
        "\n",
        "class CheckingAccount(Account):\n",
        "    def __init__(self, account_number, balance, transaction_fee):\n",
        "        super().__init__(account_number, balance)\n",
        "        self.transaction_fee = transaction_fee\n",
        "\n",
        "    def withdraw(self, amount):\n",
        "        self.balance -= amount - self.transaction_fee\n",
        "\n",
        "    def display_balance(self):\n",
        "        print(f\"Account Number: {self.account_number}, Balance: {self.balance}, Transaction Fee: {self.transaction_fee}\")\n",
        "\n",
        "\n",
        "# Create sample objects\n",
        "saving_account = SavingsAccount(12345, 1000, 0.05)\n",
        "checking_account = CheckingAccount(54321, 500, 2)\n",
        "\n",
        "# Deposit money\n",
        "saving_account.deposit(100)\n",
        "checking_account.deposit(50)\n",
        "\n",
        "# Withdraw money\n",
        "saving_account.withdraw(50)\n",
        "checking_account.withdraw(25)\n",
        "\n",
        "# Display balances\n",
        "saving_account.display_balance()\n",
        "checking_account.display_balance()\n"
      ],
      "metadata": {
        "id": "VWe0ftoEkFMR"
      },
      "execution_count": null,
      "outputs": []
    },
    {
      "cell_type": "markdown",
      "source": [
        "Numpy"
      ],
      "metadata": {
        "id": "Os1dlT7ztfJS"
      }
    },
    {
      "cell_type": "code",
      "source": [
        "import numpy as np"
      ],
      "metadata": {
        "id": "kdaEAl7Xml1g"
      },
      "execution_count": null,
      "outputs": []
    },
    {
      "cell_type": "code",
      "source": [
        "mylist = [10,20,30,40,50]\n",
        "myArray = np.array(mylist)\n",
        "print(myArray)"
      ],
      "metadata": {
        "colab": {
          "base_uri": "https://localhost:8080/"
        },
        "id": "1Jhf9pHftoFM",
        "outputId": "ae06757a-a53f-47a6-e013-781b184fefb3"
      },
      "execution_count": null,
      "outputs": [
        {
          "output_type": "stream",
          "name": "stdout",
          "text": [
            "[10 20 30 40 50]\n"
          ]
        }
      ]
    },
    {
      "cell_type": "code",
      "source": [
        "\n",
        "myArray = np.array([10,20,30,40,50])\n",
        "print(myArray)"
      ],
      "metadata": {
        "colab": {
          "base_uri": "https://localhost:8080/"
        },
        "id": "aToeuOA9t6Su",
        "outputId": "fa039ff7-0fc3-40b7-9222-35d94bf7dff6"
      },
      "execution_count": null,
      "outputs": [
        {
          "output_type": "stream",
          "name": "stdout",
          "text": [
            "[10 20 30 40 50]\n"
          ]
        }
      ]
    },
    {
      "cell_type": "code",
      "source": [
        "print(myArray[2])"
      ],
      "metadata": {
        "colab": {
          "base_uri": "https://localhost:8080/"
        },
        "id": "Ak9KYlhvwkU4",
        "outputId": "1a59c24f-c82e-4b94-f2b3-cfac2f97b8ed"
      },
      "execution_count": null,
      "outputs": [
        {
          "output_type": "stream",
          "name": "stdout",
          "text": [
            "30\n"
          ]
        }
      ]
    },
    {
      "cell_type": "code",
      "source": [
        "myArray = np.zeros(5)\n",
        "print(myArray)"
      ],
      "metadata": {
        "colab": {
          "base_uri": "https://localhost:8080/"
        },
        "id": "bzSFsHTkt_Qe",
        "outputId": "3dda4161-2e9c-4f70-8d59-ca7e3443da21"
      },
      "execution_count": null,
      "outputs": [
        {
          "output_type": "stream",
          "name": "stdout",
          "text": [
            "[0. 0. 0. 0. 0.]\n"
          ]
        }
      ]
    },
    {
      "cell_type": "code",
      "source": [
        "myArray = np.arange(1,20,2)\n",
        "print(myArray)"
      ],
      "metadata": {
        "colab": {
          "base_uri": "https://localhost:8080/"
        },
        "id": "1qApIhH_uMiO",
        "outputId": "759987e7-1e1f-4c47-dc09-f54849d73895"
      },
      "execution_count": null,
      "outputs": [
        {
          "output_type": "stream",
          "name": "stdout",
          "text": [
            "[ 1  3  5  7  9 11 13 15 17 19]\n"
          ]
        }
      ]
    },
    {
      "cell_type": "code",
      "source": [
        "myArray = np.random.rand(5)\n",
        "print(myArray)"
      ],
      "metadata": {
        "colab": {
          "base_uri": "https://localhost:8080/"
        },
        "id": "BZwcLKQxu8_W",
        "outputId": "e3238807-9956-4955-ba5a-98fa80f33fbb"
      },
      "execution_count": null,
      "outputs": [
        {
          "output_type": "stream",
          "name": "stdout",
          "text": [
            "[0.12708897 0.10284776 0.22842359 0.48763018 0.40166209]\n"
          ]
        }
      ]
    },
    {
      "cell_type": "code",
      "source": [
        "myArray = np.array([[1,2,3,4,5],\n",
        "                   [6,7,8,9,10]])\n",
        "print(myArray)"
      ],
      "metadata": {
        "colab": {
          "base_uri": "https://localhost:8080/"
        },
        "id": "JhcMLEadvPpK",
        "outputId": "2f29ec4e-0820-4ad2-adcf-f0507d3728d0"
      },
      "execution_count": null,
      "outputs": [
        {
          "output_type": "stream",
          "name": "stdout",
          "text": [
            "[[ 1  2  3  4  5]\n",
            " [ 6  7  8  9 10]]\n"
          ]
        }
      ]
    },
    {
      "cell_type": "code",
      "source": [
        "print(myArray[1,2])"
      ],
      "metadata": {
        "colab": {
          "base_uri": "https://localhost:8080/"
        },
        "id": "H3D-s3Cawq7B",
        "outputId": "afb8cc3d-a086-4279-fbc9-8028bab099c1"
      },
      "execution_count": null,
      "outputs": [
        {
          "output_type": "stream",
          "name": "stdout",
          "text": [
            "8\n"
          ]
        }
      ]
    },
    {
      "cell_type": "code",
      "source": [
        "myArray = np.zeros((2,5))\n",
        "print(myArray)"
      ],
      "metadata": {
        "colab": {
          "base_uri": "https://localhost:8080/"
        },
        "id": "dDlT5joCvl7-",
        "outputId": "25c52dd5-d1d2-4cbc-ed93-8b2959096ac7"
      },
      "execution_count": null,
      "outputs": [
        {
          "output_type": "stream",
          "name": "stdout",
          "text": [
            "[[0. 0. 0. 0. 0.]\n",
            " [0. 0. 0. 0. 0.]]\n"
          ]
        }
      ]
    },
    {
      "cell_type": "code",
      "source": [
        "myArray = np.full((2,5),1)\n",
        "print(myArray)"
      ],
      "metadata": {
        "colab": {
          "base_uri": "https://localhost:8080/"
        },
        "id": "55ILS82uvxZ3",
        "outputId": "7840200e-9d69-48a5-a8f5-aae39c279c6b"
      },
      "execution_count": null,
      "outputs": [
        {
          "output_type": "stream",
          "name": "stdout",
          "text": [
            "[[1 1 1 1 1]\n",
            " [1 1 1 1 1]]\n"
          ]
        }
      ]
    },
    {
      "cell_type": "code",
      "source": [
        "a1 = np.array([10,20,30,40,50])\n",
        "a2 = np.array([1,2,3,4,5])\n",
        "\n"
      ],
      "metadata": {
        "id": "bhxnUjFdw852"
      },
      "execution_count": null,
      "outputs": []
    },
    {
      "cell_type": "code",
      "source": [
        "res1 = np.add(a1,a2)\n",
        "res2 = np.subtract(a1,a2)\n",
        "res3 = np.multiply(a1,a2)\n",
        "res4 = np.divide(a1,a2)\n",
        "res5 = np.power(a1,a2)\n",
        "res6 = np.mod(a1,a2)\n",
        "print(res6)"
      ],
      "metadata": {
        "colab": {
          "base_uri": "https://localhost:8080/"
        },
        "id": "J3T7lTbTxHUN",
        "outputId": "51c9d255-fd6a-4ba9-e960-e5e528fa27b1"
      },
      "execution_count": null,
      "outputs": [
        {
          "output_type": "stream",
          "name": "stdout",
          "text": [
            "[0 0 0 0 0]\n"
          ]
        }
      ]
    },
    {
      "cell_type": "code",
      "source": [
        "res1 = a1 == a2\n",
        "print(res1)"
      ],
      "metadata": {
        "colab": {
          "base_uri": "https://localhost:8080/"
        },
        "id": "_ZSU4yH3yTAd",
        "outputId": "fb4fd624-077f-4fd6-8f85-e439d6f2513c"
      },
      "execution_count": null,
      "outputs": [
        {
          "output_type": "stream",
          "name": "stdout",
          "text": [
            "[False False False False False]\n"
          ]
        }
      ]
    },
    {
      "cell_type": "code",
      "source": [
        "n1 = np.array([True , True , False , False])\n",
        "n2 = np.array([True , False, False , True])\n",
        "\n",
        "\n",
        "res1 = np.logical_and(n1,n2)\n",
        "res2 = np.logical_or(n1,n2)\n",
        "res3= np.logical_not(n1)\n",
        "print(res3)"
      ],
      "metadata": {
        "colab": {
          "base_uri": "https://localhost:8080/"
        },
        "id": "vuAHhLNdyykX",
        "outputId": "eee4919a-1d57-452d-eb5a-c4889c34e04f"
      },
      "execution_count": null,
      "outputs": [
        {
          "output_type": "stream",
          "name": "stdout",
          "text": [
            "[False False  True  True]\n"
          ]
        }
      ]
    },
    {
      "cell_type": "code",
      "source": [
        "myArray = np.array([1,2,3,4,5,6,7,8,9])\n",
        "print(myArray)"
      ],
      "metadata": {
        "colab": {
          "base_uri": "https://localhost:8080/"
        },
        "id": "V_aWXNFTzctS",
        "outputId": "ff472c8d-eb1a-4e16-9483-7a6de6f79e96"
      },
      "execution_count": null,
      "outputs": [
        {
          "output_type": "stream",
          "name": "stdout",
          "text": [
            "[1 2 3 4 5 6 7 8 9]\n"
          ]
        }
      ]
    },
    {
      "cell_type": "code",
      "source": [
        "print(np.min(myArray))\n"
      ],
      "metadata": {
        "colab": {
          "base_uri": "https://localhost:8080/"
        },
        "id": "xIwoj5V-13FJ",
        "outputId": "55caa1be-dbf9-40b8-8bb5-cfbffbc0280a"
      },
      "execution_count": null,
      "outputs": [
        {
          "output_type": "stream",
          "name": "stdout",
          "text": [
            "1\n"
          ]
        }
      ]
    },
    {
      "cell_type": "code",
      "source": [
        "res = np.std(myArray)\n",
        "print(res)"
      ],
      "metadata": {
        "colab": {
          "base_uri": "https://localhost:8080/"
        },
        "id": "-7bJtwPM1uw9",
        "outputId": "f5d6397d-17b3-482d-9817-1054da892b79"
      },
      "execution_count": null,
      "outputs": [
        {
          "output_type": "stream",
          "name": "stdout",
          "text": [
            "2.581988897471611\n"
          ]
        }
      ]
    },
    {
      "cell_type": "code",
      "source": [
        "res = np.mean(myArray)  # sum of elements / total elements\n",
        "print(res)"
      ],
      "metadata": {
        "colab": {
          "base_uri": "https://localhost:8080/"
        },
        "id": "VMxvzT0iz_Rm",
        "outputId": "7519ef54-aca8-48f4-b96e-6934735a535c"
      },
      "execution_count": null,
      "outputs": [
        {
          "output_type": "stream",
          "name": "stdout",
          "text": [
            "5.5\n"
          ]
        }
      ]
    },
    {
      "cell_type": "code",
      "source": [
        "res = np.median(myArray)    # middle element when sorted\n",
        "print(res)"
      ],
      "metadata": {
        "colab": {
          "base_uri": "https://localhost:8080/"
        },
        "id": "4u-Qf4co0FEN",
        "outputId": "4e8c7158-c9bf-4e62-9211-c530073c6321"
      },
      "execution_count": null,
      "outputs": [
        {
          "output_type": "stream",
          "name": "stdout",
          "text": [
            "5.0\n"
          ]
        }
      ]
    },
    {
      "cell_type": "code",
      "source": [
        "myArray = np.array([[1,2,3,4,5],[6,7,8,9,10],[11,12,13,14,15]])\n",
        "print(myArray)"
      ],
      "metadata": {
        "colab": {
          "base_uri": "https://localhost:8080/"
        },
        "id": "2kAYfIst0gn9",
        "outputId": "ce44961e-7a27-4bad-c472-e9642126e7b1"
      },
      "execution_count": null,
      "outputs": [
        {
          "output_type": "stream",
          "name": "stdout",
          "text": [
            "[[ 1  2  3  4  5]\n",
            " [ 6  7  8  9 10]\n",
            " [11 12 13 14 15]]\n"
          ]
        }
      ]
    },
    {
      "cell_type": "code",
      "source": [
        "res1 = np.median(myArray , axis = 1)   # axis = 0 for column and for row 1\n",
        "print(res1)"
      ],
      "metadata": {
        "colab": {
          "base_uri": "https://localhost:8080/"
        },
        "id": "cErc2oJy0nou",
        "outputId": "ce6ed545-dc1a-4f0f-d487-f70b441ddeb3"
      },
      "execution_count": null,
      "outputs": [
        {
          "output_type": "stream",
          "name": "stdout",
          "text": [
            "[ 3.  8. 13.]\n"
          ]
        }
      ]
    },
    {
      "cell_type": "code",
      "source": [
        "res1 = np.median(myArray)\n",
        "print(res1)"
      ],
      "metadata": {
        "colab": {
          "base_uri": "https://localhost:8080/"
        },
        "id": "UUbLEYqa0-mz",
        "outputId": "d333c77a-a928-4a38-d5a7-93ef3a7e35f1"
      },
      "execution_count": null,
      "outputs": [
        {
          "output_type": "stream",
          "name": "stdout",
          "text": [
            "8.0\n"
          ]
        }
      ]
    },
    {
      "cell_type": "markdown",
      "source": [
        "Pandas"
      ],
      "metadata": {
        "id": "K7zq0v2COvRX"
      }
    },
    {
      "cell_type": "code",
      "source": [
        "pip install pandas"
      ],
      "metadata": {
        "colab": {
          "base_uri": "https://localhost:8080/"
        },
        "id": "vgwujtlRO1RA",
        "outputId": "eb11494c-ec4f-4efd-ea0e-91fd3397063b"
      },
      "execution_count": 1,
      "outputs": [
        {
          "output_type": "stream",
          "name": "stdout",
          "text": [
            "Requirement already satisfied: pandas in /usr/local/lib/python3.10/dist-packages (2.0.3)\n",
            "Requirement already satisfied: python-dateutil>=2.8.2 in /usr/local/lib/python3.10/dist-packages (from pandas) (2.8.2)\n",
            "Requirement already satisfied: pytz>=2020.1 in /usr/local/lib/python3.10/dist-packages (from pandas) (2023.4)\n",
            "Requirement already satisfied: tzdata>=2022.1 in /usr/local/lib/python3.10/dist-packages (from pandas) (2024.1)\n",
            "Requirement already satisfied: numpy>=1.21.0 in /usr/local/lib/python3.10/dist-packages (from pandas) (1.25.2)\n",
            "Requirement already satisfied: six>=1.5 in /usr/local/lib/python3.10/dist-packages (from python-dateutil>=2.8.2->pandas) (1.16.0)\n"
          ]
        }
      ]
    },
    {
      "cell_type": "code",
      "source": [
        "import pandas as pd"
      ],
      "metadata": {
        "id": "jLd6cwoeO8XE"
      },
      "execution_count": 2,
      "outputs": []
    },
    {
      "cell_type": "code",
      "source": [
        "arr = [10,20,30,40,50]\n",
        "s1 = pd.Series(arr , index=[\"a\",\"b\",\"c\",\"d\",\"e\"])\n",
        "print(s1)"
      ],
      "metadata": {
        "colab": {
          "base_uri": "https://localhost:8080/"
        },
        "id": "UKOMUACjPX0L",
        "outputId": "a21ecb20-0ec8-4607-cbcc-c8c381bcbfeb"
      },
      "execution_count": 5,
      "outputs": [
        {
          "output_type": "stream",
          "name": "stdout",
          "text": [
            "a    10\n",
            "b    20\n",
            "c    30\n",
            "d    40\n",
            "e    50\n",
            "dtype: int64\n"
          ]
        }
      ]
    },
    {
      "cell_type": "code",
      "source": [
        "print(s1[\"d\"])"
      ],
      "metadata": {
        "colab": {
          "base_uri": "https://localhost:8080/"
        },
        "id": "lYvaDinRQQ_I",
        "outputId": "3d76b8fc-13f4-481f-ef7d-70aabbeb6f24"
      },
      "execution_count": 6,
      "outputs": [
        {
          "output_type": "stream",
          "name": "stdout",
          "text": [
            "40\n"
          ]
        }
      ]
    },
    {
      "cell_type": "code",
      "source": [
        "dic = {\"s1\":10,\"s2\":20,\"s3\":30}\n",
        "s2 = pd.Series(dic , index=[\"s1\",\"s2\"])\n",
        "print(s2)"
      ],
      "metadata": {
        "colab": {
          "base_uri": "https://localhost:8080/"
        },
        "id": "9Tf-UsArQpHw",
        "outputId": "697f3244-0ba6-4a9b-8ba9-c764af387bf7"
      },
      "execution_count": 8,
      "outputs": [
        {
          "output_type": "stream",
          "name": "stdout",
          "text": [
            "s1    10\n",
            "s2    20\n",
            "dtype: int64\n"
          ]
        }
      ]
    },
    {
      "cell_type": "code",
      "source": [
        "data = {\"Name\":['Nidu','Nirmala','Prathmesh'],\n",
        "        'Age':[25,30,28],\n",
        "        'marks':[90,80,80]}\n",
        "\n",
        "\n",
        "df = pd.DataFrame(data)\n",
        "print(df)"
      ],
      "metadata": {
        "colab": {
          "base_uri": "https://localhost:8080/"
        },
        "id": "7bh0AV3pS36C",
        "outputId": "4c18b88f-4d01-4ca0-9e4d-ccb526d314a7"
      },
      "execution_count": 9,
      "outputs": [
        {
          "output_type": "stream",
          "name": "stdout",
          "text": [
            "        Name  Age  marks\n",
            "0       Nidu   25     90\n",
            "1    Nirmala   30     80\n",
            "2  Prathmesh   28     80\n"
          ]
        }
      ]
    },
    {
      "cell_type": "code",
      "source": [
        "data = [['Nidu',25,90],['Nirmala',30,80],['Prathmesh',28,80]]\n",
        "df = pd.DataFrame(data,columns=['Name','Age','marks'])\n",
        "print(df)"
      ],
      "metadata": {
        "colab": {
          "base_uri": "https://localhost:8080/"
        },
        "id": "YAOMV6yITTIA",
        "outputId": "1d41ed01-49cf-4561-e5a1-66c5edfb662a"
      },
      "execution_count": 10,
      "outputs": [
        {
          "output_type": "stream",
          "name": "stdout",
          "text": [
            "        Name  Age  marks\n",
            "0       Nidu   25     90\n",
            "1    Nirmala   30     80\n",
            "2  Prathmesh   28     80\n"
          ]
        }
      ]
    },
    {
      "cell_type": "code",
      "source": [
        "data = {\"Name\":['Nidu','Nirmala','Prathmesh','Anthony','Pravallika','Surya','Vajira'],\n",
        "        'Age':[25,30,28,30,24,25,23],\n",
        "        'marks':[90,80,80,70,50,90,50]}\n",
        "\n",
        "\n",
        "df = pd.DataFrame(data)\n",
        "print(df)"
      ],
      "metadata": {
        "colab": {
          "base_uri": "https://localhost:8080/"
        },
        "id": "Expjmf7wWXe-",
        "outputId": "68885169-6b46-44fc-ebd3-61da45cff455"
      },
      "execution_count": 21,
      "outputs": [
        {
          "output_type": "stream",
          "name": "stdout",
          "text": [
            "         Name  Age  marks\n",
            "0        Nidu   25     90\n",
            "1     Nirmala   30     80\n",
            "2   Prathmesh   28     80\n",
            "3     Anthony   30     70\n",
            "4  Pravallika   24     50\n",
            "5       Surya   25     90\n",
            "6      Vajira   23     50\n"
          ]
        }
      ]
    },
    {
      "cell_type": "code",
      "source": [
        "df.head(3)"
      ],
      "metadata": {
        "colab": {
          "base_uri": "https://localhost:8080/",
          "height": 143
        },
        "id": "iUQi7qzsWqHo",
        "outputId": "3963fae6-adc3-43b4-dcb7-ea566a529623"
      },
      "execution_count": 22,
      "outputs": [
        {
          "output_type": "execute_result",
          "data": {
            "text/plain": [
              "        Name  Age  marks\n",
              "0       Nidu   25     90\n",
              "1    Nirmala   30     80\n",
              "2  Prathmesh   28     80"
            ],
            "text/html": [
              "\n",
              "  <div id=\"df-19484e26-9f8d-4b85-b5a1-3360bd12824d\" class=\"colab-df-container\">\n",
              "    <div>\n",
              "<style scoped>\n",
              "    .dataframe tbody tr th:only-of-type {\n",
              "        vertical-align: middle;\n",
              "    }\n",
              "\n",
              "    .dataframe tbody tr th {\n",
              "        vertical-align: top;\n",
              "    }\n",
              "\n",
              "    .dataframe thead th {\n",
              "        text-align: right;\n",
              "    }\n",
              "</style>\n",
              "<table border=\"1\" class=\"dataframe\">\n",
              "  <thead>\n",
              "    <tr style=\"text-align: right;\">\n",
              "      <th></th>\n",
              "      <th>Name</th>\n",
              "      <th>Age</th>\n",
              "      <th>marks</th>\n",
              "    </tr>\n",
              "  </thead>\n",
              "  <tbody>\n",
              "    <tr>\n",
              "      <th>0</th>\n",
              "      <td>Nidu</td>\n",
              "      <td>25</td>\n",
              "      <td>90</td>\n",
              "    </tr>\n",
              "    <tr>\n",
              "      <th>1</th>\n",
              "      <td>Nirmala</td>\n",
              "      <td>30</td>\n",
              "      <td>80</td>\n",
              "    </tr>\n",
              "    <tr>\n",
              "      <th>2</th>\n",
              "      <td>Prathmesh</td>\n",
              "      <td>28</td>\n",
              "      <td>80</td>\n",
              "    </tr>\n",
              "  </tbody>\n",
              "</table>\n",
              "</div>\n",
              "    <div class=\"colab-df-buttons\">\n",
              "\n",
              "  <div class=\"colab-df-container\">\n",
              "    <button class=\"colab-df-convert\" onclick=\"convertToInteractive('df-19484e26-9f8d-4b85-b5a1-3360bd12824d')\"\n",
              "            title=\"Convert this dataframe to an interactive table.\"\n",
              "            style=\"display:none;\">\n",
              "\n",
              "  <svg xmlns=\"http://www.w3.org/2000/svg\" height=\"24px\" viewBox=\"0 -960 960 960\">\n",
              "    <path d=\"M120-120v-720h720v720H120Zm60-500h600v-160H180v160Zm220 220h160v-160H400v160Zm0 220h160v-160H400v160ZM180-400h160v-160H180v160Zm440 0h160v-160H620v160ZM180-180h160v-160H180v160Zm440 0h160v-160H620v160Z\"/>\n",
              "  </svg>\n",
              "    </button>\n",
              "\n",
              "  <style>\n",
              "    .colab-df-container {\n",
              "      display:flex;\n",
              "      gap: 12px;\n",
              "    }\n",
              "\n",
              "    .colab-df-convert {\n",
              "      background-color: #E8F0FE;\n",
              "      border: none;\n",
              "      border-radius: 50%;\n",
              "      cursor: pointer;\n",
              "      display: none;\n",
              "      fill: #1967D2;\n",
              "      height: 32px;\n",
              "      padding: 0 0 0 0;\n",
              "      width: 32px;\n",
              "    }\n",
              "\n",
              "    .colab-df-convert:hover {\n",
              "      background-color: #E2EBFA;\n",
              "      box-shadow: 0px 1px 2px rgba(60, 64, 67, 0.3), 0px 1px 3px 1px rgba(60, 64, 67, 0.15);\n",
              "      fill: #174EA6;\n",
              "    }\n",
              "\n",
              "    .colab-df-buttons div {\n",
              "      margin-bottom: 4px;\n",
              "    }\n",
              "\n",
              "    [theme=dark] .colab-df-convert {\n",
              "      background-color: #3B4455;\n",
              "      fill: #D2E3FC;\n",
              "    }\n",
              "\n",
              "    [theme=dark] .colab-df-convert:hover {\n",
              "      background-color: #434B5C;\n",
              "      box-shadow: 0px 1px 3px 1px rgba(0, 0, 0, 0.15);\n",
              "      filter: drop-shadow(0px 1px 2px rgba(0, 0, 0, 0.3));\n",
              "      fill: #FFFFFF;\n",
              "    }\n",
              "  </style>\n",
              "\n",
              "    <script>\n",
              "      const buttonEl =\n",
              "        document.querySelector('#df-19484e26-9f8d-4b85-b5a1-3360bd12824d button.colab-df-convert');\n",
              "      buttonEl.style.display =\n",
              "        google.colab.kernel.accessAllowed ? 'block' : 'none';\n",
              "\n",
              "      async function convertToInteractive(key) {\n",
              "        const element = document.querySelector('#df-19484e26-9f8d-4b85-b5a1-3360bd12824d');\n",
              "        const dataTable =\n",
              "          await google.colab.kernel.invokeFunction('convertToInteractive',\n",
              "                                                    [key], {});\n",
              "        if (!dataTable) return;\n",
              "\n",
              "        const docLinkHtml = 'Like what you see? Visit the ' +\n",
              "          '<a target=\"_blank\" href=https://colab.research.google.com/notebooks/data_table.ipynb>data table notebook</a>'\n",
              "          + ' to learn more about interactive tables.';\n",
              "        element.innerHTML = '';\n",
              "        dataTable['output_type'] = 'display_data';\n",
              "        await google.colab.output.renderOutput(dataTable, element);\n",
              "        const docLink = document.createElement('div');\n",
              "        docLink.innerHTML = docLinkHtml;\n",
              "        element.appendChild(docLink);\n",
              "      }\n",
              "    </script>\n",
              "  </div>\n",
              "\n",
              "\n",
              "<div id=\"df-6125b033-3be1-45af-855e-dd1ed349ff33\">\n",
              "  <button class=\"colab-df-quickchart\" onclick=\"quickchart('df-6125b033-3be1-45af-855e-dd1ed349ff33')\"\n",
              "            title=\"Suggest charts\"\n",
              "            style=\"display:none;\">\n",
              "\n",
              "<svg xmlns=\"http://www.w3.org/2000/svg\" height=\"24px\"viewBox=\"0 0 24 24\"\n",
              "     width=\"24px\">\n",
              "    <g>\n",
              "        <path d=\"M19 3H5c-1.1 0-2 .9-2 2v14c0 1.1.9 2 2 2h14c1.1 0 2-.9 2-2V5c0-1.1-.9-2-2-2zM9 17H7v-7h2v7zm4 0h-2V7h2v10zm4 0h-2v-4h2v4z\"/>\n",
              "    </g>\n",
              "</svg>\n",
              "  </button>\n",
              "\n",
              "<style>\n",
              "  .colab-df-quickchart {\n",
              "      --bg-color: #E8F0FE;\n",
              "      --fill-color: #1967D2;\n",
              "      --hover-bg-color: #E2EBFA;\n",
              "      --hover-fill-color: #174EA6;\n",
              "      --disabled-fill-color: #AAA;\n",
              "      --disabled-bg-color: #DDD;\n",
              "  }\n",
              "\n",
              "  [theme=dark] .colab-df-quickchart {\n",
              "      --bg-color: #3B4455;\n",
              "      --fill-color: #D2E3FC;\n",
              "      --hover-bg-color: #434B5C;\n",
              "      --hover-fill-color: #FFFFFF;\n",
              "      --disabled-bg-color: #3B4455;\n",
              "      --disabled-fill-color: #666;\n",
              "  }\n",
              "\n",
              "  .colab-df-quickchart {\n",
              "    background-color: var(--bg-color);\n",
              "    border: none;\n",
              "    border-radius: 50%;\n",
              "    cursor: pointer;\n",
              "    display: none;\n",
              "    fill: var(--fill-color);\n",
              "    height: 32px;\n",
              "    padding: 0;\n",
              "    width: 32px;\n",
              "  }\n",
              "\n",
              "  .colab-df-quickchart:hover {\n",
              "    background-color: var(--hover-bg-color);\n",
              "    box-shadow: 0 1px 2px rgba(60, 64, 67, 0.3), 0 1px 3px 1px rgba(60, 64, 67, 0.15);\n",
              "    fill: var(--button-hover-fill-color);\n",
              "  }\n",
              "\n",
              "  .colab-df-quickchart-complete:disabled,\n",
              "  .colab-df-quickchart-complete:disabled:hover {\n",
              "    background-color: var(--disabled-bg-color);\n",
              "    fill: var(--disabled-fill-color);\n",
              "    box-shadow: none;\n",
              "  }\n",
              "\n",
              "  .colab-df-spinner {\n",
              "    border: 2px solid var(--fill-color);\n",
              "    border-color: transparent;\n",
              "    border-bottom-color: var(--fill-color);\n",
              "    animation:\n",
              "      spin 1s steps(1) infinite;\n",
              "  }\n",
              "\n",
              "  @keyframes spin {\n",
              "    0% {\n",
              "      border-color: transparent;\n",
              "      border-bottom-color: var(--fill-color);\n",
              "      border-left-color: var(--fill-color);\n",
              "    }\n",
              "    20% {\n",
              "      border-color: transparent;\n",
              "      border-left-color: var(--fill-color);\n",
              "      border-top-color: var(--fill-color);\n",
              "    }\n",
              "    30% {\n",
              "      border-color: transparent;\n",
              "      border-left-color: var(--fill-color);\n",
              "      border-top-color: var(--fill-color);\n",
              "      border-right-color: var(--fill-color);\n",
              "    }\n",
              "    40% {\n",
              "      border-color: transparent;\n",
              "      border-right-color: var(--fill-color);\n",
              "      border-top-color: var(--fill-color);\n",
              "    }\n",
              "    60% {\n",
              "      border-color: transparent;\n",
              "      border-right-color: var(--fill-color);\n",
              "    }\n",
              "    80% {\n",
              "      border-color: transparent;\n",
              "      border-right-color: var(--fill-color);\n",
              "      border-bottom-color: var(--fill-color);\n",
              "    }\n",
              "    90% {\n",
              "      border-color: transparent;\n",
              "      border-bottom-color: var(--fill-color);\n",
              "    }\n",
              "  }\n",
              "</style>\n",
              "\n",
              "  <script>\n",
              "    async function quickchart(key) {\n",
              "      const quickchartButtonEl =\n",
              "        document.querySelector('#' + key + ' button');\n",
              "      quickchartButtonEl.disabled = true;  // To prevent multiple clicks.\n",
              "      quickchartButtonEl.classList.add('colab-df-spinner');\n",
              "      try {\n",
              "        const charts = await google.colab.kernel.invokeFunction(\n",
              "            'suggestCharts', [key], {});\n",
              "      } catch (error) {\n",
              "        console.error('Error during call to suggestCharts:', error);\n",
              "      }\n",
              "      quickchartButtonEl.classList.remove('colab-df-spinner');\n",
              "      quickchartButtonEl.classList.add('colab-df-quickchart-complete');\n",
              "    }\n",
              "    (() => {\n",
              "      let quickchartButtonEl =\n",
              "        document.querySelector('#df-6125b033-3be1-45af-855e-dd1ed349ff33 button');\n",
              "      quickchartButtonEl.style.display =\n",
              "        google.colab.kernel.accessAllowed ? 'block' : 'none';\n",
              "    })();\n",
              "  </script>\n",
              "</div>\n",
              "\n",
              "    </div>\n",
              "  </div>\n"
            ],
            "application/vnd.google.colaboratory.intrinsic+json": {
              "type": "dataframe",
              "variable_name": "df",
              "summary": "{\n  \"name\": \"df\",\n  \"rows\": 7,\n  \"fields\": [\n    {\n      \"column\": \"Name\",\n      \"properties\": {\n        \"dtype\": \"string\",\n        \"num_unique_values\": 7,\n        \"samples\": [\n          \"Nidu\",\n          \"Nirmala\",\n          \"Surya\"\n        ],\n        \"semantic_type\": \"\",\n        \"description\": \"\"\n      }\n    },\n    {\n      \"column\": \"Age\",\n      \"properties\": {\n        \"dtype\": \"number\",\n        \"std\": 2,\n        \"min\": 23,\n        \"max\": 30,\n        \"num_unique_values\": 5,\n        \"samples\": [\n          30,\n          23,\n          28\n        ],\n        \"semantic_type\": \"\",\n        \"description\": \"\"\n      }\n    },\n    {\n      \"column\": \"marks\",\n      \"properties\": {\n        \"dtype\": \"number\",\n        \"std\": 17,\n        \"min\": 50,\n        \"max\": 90,\n        \"num_unique_values\": 4,\n        \"samples\": [\n          80,\n          50,\n          90\n        ],\n        \"semantic_type\": \"\",\n        \"description\": \"\"\n      }\n    }\n  ]\n}"
            }
          },
          "metadata": {},
          "execution_count": 22
        }
      ]
    },
    {
      "cell_type": "code",
      "source": [
        "df.tail(3)"
      ],
      "metadata": {
        "colab": {
          "base_uri": "https://localhost:8080/",
          "height": 143
        },
        "id": "fpafDdWfW0ws",
        "outputId": "6651146a-8677-4036-f10f-48b7b9e9321b"
      },
      "execution_count": 23,
      "outputs": [
        {
          "output_type": "execute_result",
          "data": {
            "text/plain": [
              "         Name  Age  marks\n",
              "4  Pravallika   24     50\n",
              "5       Surya   25     90\n",
              "6      Vajira   23     50"
            ],
            "text/html": [
              "\n",
              "  <div id=\"df-61e39b46-ba03-4568-bb1c-c5fb7393c430\" class=\"colab-df-container\">\n",
              "    <div>\n",
              "<style scoped>\n",
              "    .dataframe tbody tr th:only-of-type {\n",
              "        vertical-align: middle;\n",
              "    }\n",
              "\n",
              "    .dataframe tbody tr th {\n",
              "        vertical-align: top;\n",
              "    }\n",
              "\n",
              "    .dataframe thead th {\n",
              "        text-align: right;\n",
              "    }\n",
              "</style>\n",
              "<table border=\"1\" class=\"dataframe\">\n",
              "  <thead>\n",
              "    <tr style=\"text-align: right;\">\n",
              "      <th></th>\n",
              "      <th>Name</th>\n",
              "      <th>Age</th>\n",
              "      <th>marks</th>\n",
              "    </tr>\n",
              "  </thead>\n",
              "  <tbody>\n",
              "    <tr>\n",
              "      <th>4</th>\n",
              "      <td>Pravallika</td>\n",
              "      <td>24</td>\n",
              "      <td>50</td>\n",
              "    </tr>\n",
              "    <tr>\n",
              "      <th>5</th>\n",
              "      <td>Surya</td>\n",
              "      <td>25</td>\n",
              "      <td>90</td>\n",
              "    </tr>\n",
              "    <tr>\n",
              "      <th>6</th>\n",
              "      <td>Vajira</td>\n",
              "      <td>23</td>\n",
              "      <td>50</td>\n",
              "    </tr>\n",
              "  </tbody>\n",
              "</table>\n",
              "</div>\n",
              "    <div class=\"colab-df-buttons\">\n",
              "\n",
              "  <div class=\"colab-df-container\">\n",
              "    <button class=\"colab-df-convert\" onclick=\"convertToInteractive('df-61e39b46-ba03-4568-bb1c-c5fb7393c430')\"\n",
              "            title=\"Convert this dataframe to an interactive table.\"\n",
              "            style=\"display:none;\">\n",
              "\n",
              "  <svg xmlns=\"http://www.w3.org/2000/svg\" height=\"24px\" viewBox=\"0 -960 960 960\">\n",
              "    <path d=\"M120-120v-720h720v720H120Zm60-500h600v-160H180v160Zm220 220h160v-160H400v160Zm0 220h160v-160H400v160ZM180-400h160v-160H180v160Zm440 0h160v-160H620v160ZM180-180h160v-160H180v160Zm440 0h160v-160H620v160Z\"/>\n",
              "  </svg>\n",
              "    </button>\n",
              "\n",
              "  <style>\n",
              "    .colab-df-container {\n",
              "      display:flex;\n",
              "      gap: 12px;\n",
              "    }\n",
              "\n",
              "    .colab-df-convert {\n",
              "      background-color: #E8F0FE;\n",
              "      border: none;\n",
              "      border-radius: 50%;\n",
              "      cursor: pointer;\n",
              "      display: none;\n",
              "      fill: #1967D2;\n",
              "      height: 32px;\n",
              "      padding: 0 0 0 0;\n",
              "      width: 32px;\n",
              "    }\n",
              "\n",
              "    .colab-df-convert:hover {\n",
              "      background-color: #E2EBFA;\n",
              "      box-shadow: 0px 1px 2px rgba(60, 64, 67, 0.3), 0px 1px 3px 1px rgba(60, 64, 67, 0.15);\n",
              "      fill: #174EA6;\n",
              "    }\n",
              "\n",
              "    .colab-df-buttons div {\n",
              "      margin-bottom: 4px;\n",
              "    }\n",
              "\n",
              "    [theme=dark] .colab-df-convert {\n",
              "      background-color: #3B4455;\n",
              "      fill: #D2E3FC;\n",
              "    }\n",
              "\n",
              "    [theme=dark] .colab-df-convert:hover {\n",
              "      background-color: #434B5C;\n",
              "      box-shadow: 0px 1px 3px 1px rgba(0, 0, 0, 0.15);\n",
              "      filter: drop-shadow(0px 1px 2px rgba(0, 0, 0, 0.3));\n",
              "      fill: #FFFFFF;\n",
              "    }\n",
              "  </style>\n",
              "\n",
              "    <script>\n",
              "      const buttonEl =\n",
              "        document.querySelector('#df-61e39b46-ba03-4568-bb1c-c5fb7393c430 button.colab-df-convert');\n",
              "      buttonEl.style.display =\n",
              "        google.colab.kernel.accessAllowed ? 'block' : 'none';\n",
              "\n",
              "      async function convertToInteractive(key) {\n",
              "        const element = document.querySelector('#df-61e39b46-ba03-4568-bb1c-c5fb7393c430');\n",
              "        const dataTable =\n",
              "          await google.colab.kernel.invokeFunction('convertToInteractive',\n",
              "                                                    [key], {});\n",
              "        if (!dataTable) return;\n",
              "\n",
              "        const docLinkHtml = 'Like what you see? Visit the ' +\n",
              "          '<a target=\"_blank\" href=https://colab.research.google.com/notebooks/data_table.ipynb>data table notebook</a>'\n",
              "          + ' to learn more about interactive tables.';\n",
              "        element.innerHTML = '';\n",
              "        dataTable['output_type'] = 'display_data';\n",
              "        await google.colab.output.renderOutput(dataTable, element);\n",
              "        const docLink = document.createElement('div');\n",
              "        docLink.innerHTML = docLinkHtml;\n",
              "        element.appendChild(docLink);\n",
              "      }\n",
              "    </script>\n",
              "  </div>\n",
              "\n",
              "\n",
              "<div id=\"df-7edf8e0b-5e91-4def-8c33-6393412b6a5c\">\n",
              "  <button class=\"colab-df-quickchart\" onclick=\"quickchart('df-7edf8e0b-5e91-4def-8c33-6393412b6a5c')\"\n",
              "            title=\"Suggest charts\"\n",
              "            style=\"display:none;\">\n",
              "\n",
              "<svg xmlns=\"http://www.w3.org/2000/svg\" height=\"24px\"viewBox=\"0 0 24 24\"\n",
              "     width=\"24px\">\n",
              "    <g>\n",
              "        <path d=\"M19 3H5c-1.1 0-2 .9-2 2v14c0 1.1.9 2 2 2h14c1.1 0 2-.9 2-2V5c0-1.1-.9-2-2-2zM9 17H7v-7h2v7zm4 0h-2V7h2v10zm4 0h-2v-4h2v4z\"/>\n",
              "    </g>\n",
              "</svg>\n",
              "  </button>\n",
              "\n",
              "<style>\n",
              "  .colab-df-quickchart {\n",
              "      --bg-color: #E8F0FE;\n",
              "      --fill-color: #1967D2;\n",
              "      --hover-bg-color: #E2EBFA;\n",
              "      --hover-fill-color: #174EA6;\n",
              "      --disabled-fill-color: #AAA;\n",
              "      --disabled-bg-color: #DDD;\n",
              "  }\n",
              "\n",
              "  [theme=dark] .colab-df-quickchart {\n",
              "      --bg-color: #3B4455;\n",
              "      --fill-color: #D2E3FC;\n",
              "      --hover-bg-color: #434B5C;\n",
              "      --hover-fill-color: #FFFFFF;\n",
              "      --disabled-bg-color: #3B4455;\n",
              "      --disabled-fill-color: #666;\n",
              "  }\n",
              "\n",
              "  .colab-df-quickchart {\n",
              "    background-color: var(--bg-color);\n",
              "    border: none;\n",
              "    border-radius: 50%;\n",
              "    cursor: pointer;\n",
              "    display: none;\n",
              "    fill: var(--fill-color);\n",
              "    height: 32px;\n",
              "    padding: 0;\n",
              "    width: 32px;\n",
              "  }\n",
              "\n",
              "  .colab-df-quickchart:hover {\n",
              "    background-color: var(--hover-bg-color);\n",
              "    box-shadow: 0 1px 2px rgba(60, 64, 67, 0.3), 0 1px 3px 1px rgba(60, 64, 67, 0.15);\n",
              "    fill: var(--button-hover-fill-color);\n",
              "  }\n",
              "\n",
              "  .colab-df-quickchart-complete:disabled,\n",
              "  .colab-df-quickchart-complete:disabled:hover {\n",
              "    background-color: var(--disabled-bg-color);\n",
              "    fill: var(--disabled-fill-color);\n",
              "    box-shadow: none;\n",
              "  }\n",
              "\n",
              "  .colab-df-spinner {\n",
              "    border: 2px solid var(--fill-color);\n",
              "    border-color: transparent;\n",
              "    border-bottom-color: var(--fill-color);\n",
              "    animation:\n",
              "      spin 1s steps(1) infinite;\n",
              "  }\n",
              "\n",
              "  @keyframes spin {\n",
              "    0% {\n",
              "      border-color: transparent;\n",
              "      border-bottom-color: var(--fill-color);\n",
              "      border-left-color: var(--fill-color);\n",
              "    }\n",
              "    20% {\n",
              "      border-color: transparent;\n",
              "      border-left-color: var(--fill-color);\n",
              "      border-top-color: var(--fill-color);\n",
              "    }\n",
              "    30% {\n",
              "      border-color: transparent;\n",
              "      border-left-color: var(--fill-color);\n",
              "      border-top-color: var(--fill-color);\n",
              "      border-right-color: var(--fill-color);\n",
              "    }\n",
              "    40% {\n",
              "      border-color: transparent;\n",
              "      border-right-color: var(--fill-color);\n",
              "      border-top-color: var(--fill-color);\n",
              "    }\n",
              "    60% {\n",
              "      border-color: transparent;\n",
              "      border-right-color: var(--fill-color);\n",
              "    }\n",
              "    80% {\n",
              "      border-color: transparent;\n",
              "      border-right-color: var(--fill-color);\n",
              "      border-bottom-color: var(--fill-color);\n",
              "    }\n",
              "    90% {\n",
              "      border-color: transparent;\n",
              "      border-bottom-color: var(--fill-color);\n",
              "    }\n",
              "  }\n",
              "</style>\n",
              "\n",
              "  <script>\n",
              "    async function quickchart(key) {\n",
              "      const quickchartButtonEl =\n",
              "        document.querySelector('#' + key + ' button');\n",
              "      quickchartButtonEl.disabled = true;  // To prevent multiple clicks.\n",
              "      quickchartButtonEl.classList.add('colab-df-spinner');\n",
              "      try {\n",
              "        const charts = await google.colab.kernel.invokeFunction(\n",
              "            'suggestCharts', [key], {});\n",
              "      } catch (error) {\n",
              "        console.error('Error during call to suggestCharts:', error);\n",
              "      }\n",
              "      quickchartButtonEl.classList.remove('colab-df-spinner');\n",
              "      quickchartButtonEl.classList.add('colab-df-quickchart-complete');\n",
              "    }\n",
              "    (() => {\n",
              "      let quickchartButtonEl =\n",
              "        document.querySelector('#df-7edf8e0b-5e91-4def-8c33-6393412b6a5c button');\n",
              "      quickchartButtonEl.style.display =\n",
              "        google.colab.kernel.accessAllowed ? 'block' : 'none';\n",
              "    })();\n",
              "  </script>\n",
              "</div>\n",
              "\n",
              "    </div>\n",
              "  </div>\n"
            ],
            "application/vnd.google.colaboratory.intrinsic+json": {
              "type": "dataframe",
              "summary": "{\n  \"name\": \"df\",\n  \"rows\": 3,\n  \"fields\": [\n    {\n      \"column\": \"Name\",\n      \"properties\": {\n        \"dtype\": \"string\",\n        \"num_unique_values\": 3,\n        \"samples\": [\n          \"Pravallika\",\n          \"Surya\",\n          \"Vajira\"\n        ],\n        \"semantic_type\": \"\",\n        \"description\": \"\"\n      }\n    },\n    {\n      \"column\": \"Age\",\n      \"properties\": {\n        \"dtype\": \"number\",\n        \"std\": 1,\n        \"min\": 23,\n        \"max\": 25,\n        \"num_unique_values\": 3,\n        \"samples\": [\n          24,\n          25,\n          23\n        ],\n        \"semantic_type\": \"\",\n        \"description\": \"\"\n      }\n    },\n    {\n      \"column\": \"marks\",\n      \"properties\": {\n        \"dtype\": \"number\",\n        \"std\": 23,\n        \"min\": 50,\n        \"max\": 90,\n        \"num_unique_values\": 2,\n        \"samples\": [\n          90,\n          50\n        ],\n        \"semantic_type\": \"\",\n        \"description\": \"\"\n      }\n    }\n  ]\n}"
            }
          },
          "metadata": {},
          "execution_count": 23
        }
      ]
    },
    {
      "cell_type": "code",
      "source": [
        "df.info()"
      ],
      "metadata": {
        "colab": {
          "base_uri": "https://localhost:8080/"
        },
        "id": "qToz-EdhW_Kx",
        "outputId": "72cb738e-d881-4079-ace9-81958b576ac7"
      },
      "execution_count": 24,
      "outputs": [
        {
          "output_type": "stream",
          "name": "stdout",
          "text": [
            "<class 'pandas.core.frame.DataFrame'>\n",
            "RangeIndex: 7 entries, 0 to 6\n",
            "Data columns (total 3 columns):\n",
            " #   Column  Non-Null Count  Dtype \n",
            "---  ------  --------------  ----- \n",
            " 0   Name    7 non-null      object\n",
            " 1   Age     7 non-null      int64 \n",
            " 2   marks   7 non-null      int64 \n",
            "dtypes: int64(2), object(1)\n",
            "memory usage: 296.0+ bytes\n"
          ]
        }
      ]
    },
    {
      "cell_type": "code",
      "source": [
        "country = ['US','UK','China','Australia','India','USA','USA']\n",
        "df['country'] = country\n",
        "print(df)"
      ],
      "metadata": {
        "colab": {
          "base_uri": "https://localhost:8080/"
        },
        "id": "Fcz1GfGEXS2Q",
        "outputId": "36b9c07f-835b-4b24-90f7-0c15c41d1387"
      },
      "execution_count": 25,
      "outputs": [
        {
          "output_type": "stream",
          "name": "stdout",
          "text": [
            "         Name  Age  marks    country\n",
            "0        Nidu   25     90         US\n",
            "1     Nirmala   30     80         UK\n",
            "2   Prathmesh   28     80      China\n",
            "3     Anthony   30     70  Australia\n",
            "4  Pravallika   24     50      India\n",
            "5       Surya   25     90        USA\n",
            "6      Vajira   23     50        USA\n"
          ]
        }
      ]
    },
    {
      "cell_type": "code",
      "source": [
        "df.loc[len(df.index)] = ['Alice',25,90,'US']\n",
        "print(df)"
      ],
      "metadata": {
        "colab": {
          "base_uri": "https://localhost:8080/"
        },
        "id": "8bviy5jZXt8t",
        "outputId": "1bd2947c-22d5-44d9-9ed1-9b14eb0409e8"
      },
      "execution_count": 26,
      "outputs": [
        {
          "output_type": "stream",
          "name": "stdout",
          "text": [
            "         Name  Age  marks    country\n",
            "0        Nidu   25     90         US\n",
            "1     Nirmala   30     80         UK\n",
            "2   Prathmesh   28     80      China\n",
            "3     Anthony   30     70  Australia\n",
            "4  Pravallika   24     50      India\n",
            "5       Surya   25     90        USA\n",
            "6      Vajira   23     50        USA\n",
            "7       Alice   25     90         US\n"
          ]
        }
      ]
    },
    {
      "cell_type": "code",
      "source": [
        "df.drop(7,axis=0,inplace=True)\n",
        "print(df)"
      ],
      "metadata": {
        "colab": {
          "base_uri": "https://localhost:8080/"
        },
        "id": "QFwgwHd_YDyh",
        "outputId": "2312ec34-185a-4df2-a351-d21a4f2389dd"
      },
      "execution_count": 27,
      "outputs": [
        {
          "output_type": "stream",
          "name": "stdout",
          "text": [
            "         Name  Age  marks    country\n",
            "0        Nidu   25     90         US\n",
            "1     Nirmala   30     80         UK\n",
            "2   Prathmesh   28     80      China\n",
            "3     Anthony   30     70  Australia\n",
            "4  Pravallika   24     50      India\n",
            "5       Surya   25     90        USA\n",
            "6      Vajira   23     50        USA\n"
          ]
        }
      ]
    },
    {
      "cell_type": "code",
      "source": [
        "df.drop(['country','marks'],axis=1,inplace=True)\n",
        "print(df)"
      ],
      "metadata": {
        "colab": {
          "base_uri": "https://localhost:8080/"
        },
        "id": "yW6kBokaYOy4",
        "outputId": "1611ee98-1060-4e63-8664-2aef56d08716"
      },
      "execution_count": 28,
      "outputs": [
        {
          "output_type": "stream",
          "name": "stdout",
          "text": [
            "         Name  Age\n",
            "0        Nidu   25\n",
            "1     Nirmala   30\n",
            "2   Prathmesh   28\n",
            "3     Anthony   30\n",
            "4  Pravallika   24\n",
            "5       Surya   25\n",
            "6      Vajira   23\n"
          ]
        }
      ]
    },
    {
      "cell_type": "code",
      "source": [
        "df.rename(columns={'Name':'student_name'},inplace=True)\n",
        "print(df)"
      ],
      "metadata": {
        "colab": {
          "base_uri": "https://localhost:8080/"
        },
        "id": "b1QpF5vZYydK",
        "outputId": "181af0b9-af5c-4161-c43a-c3250fcef70a"
      },
      "execution_count": 29,
      "outputs": [
        {
          "output_type": "stream",
          "name": "stdout",
          "text": [
            "  student_name  Age\n",
            "0         Nidu   25\n",
            "1      Nirmala   30\n",
            "2    Prathmesh   28\n",
            "3      Anthony   30\n",
            "4   Pravallika   24\n",
            "5        Surya   25\n",
            "6       Vajira   23\n"
          ]
        }
      ]
    },
    {
      "cell_type": "code",
      "source": [
        "df.rename(mapper={'student_name':'std_name','Age':'std_age'},axis=1,inplace=True)\n",
        "print(df)"
      ],
      "metadata": {
        "colab": {
          "base_uri": "https://localhost:8080/"
        },
        "id": "i-zJ7OPjY5NK",
        "outputId": "7e2fa351-97c8-4a74-b34e-96c891e033c8"
      },
      "execution_count": 30,
      "outputs": [
        {
          "output_type": "stream",
          "name": "stdout",
          "text": [
            "     std_name  std_age\n",
            "0        Nidu       25\n",
            "1     Nirmala       30\n",
            "2   Prathmesh       28\n",
            "3     Anthony       30\n",
            "4  Pravallika       24\n",
            "5       Surya       25\n",
            "6      Vajira       23\n"
          ]
        }
      ]
    },
    {
      "cell_type": "code",
      "source": [
        "df.rename(index={0:'first',1:'second',2:'third'},inplace=True)\n",
        "print(df)"
      ],
      "metadata": {
        "colab": {
          "base_uri": "https://localhost:8080/"
        },
        "id": "GI5kFtN3ZJjT",
        "outputId": "ad4cec72-f541-4e61-ab9c-a155d138f35b"
      },
      "execution_count": 31,
      "outputs": [
        {
          "output_type": "stream",
          "name": "stdout",
          "text": [
            "          std_name  std_age\n",
            "first         Nidu       25\n",
            "second     Nirmala       30\n",
            "third    Prathmesh       28\n",
            "3          Anthony       30\n",
            "4       Pravallika       24\n",
            "5            Surya       25\n",
            "6           Vajira       23\n"
          ]
        }
      ]
    },
    {
      "cell_type": "code",
      "source": [
        "df.rename(index={'first':0,'second':1,'third':2},inplace=True)\n",
        "print(df)"
      ],
      "metadata": {
        "colab": {
          "base_uri": "https://localhost:8080/"
        },
        "id": "-NRFakGHZTA_",
        "outputId": "cbb0d902-e2ba-49e9-d103-5ff91bee9053"
      },
      "execution_count": 32,
      "outputs": [
        {
          "output_type": "stream",
          "name": "stdout",
          "text": [
            "     std_name  std_age\n",
            "0        Nidu       25\n",
            "1     Nirmala       30\n",
            "2   Prathmesh       28\n",
            "3     Anthony       30\n",
            "4  Pravallika       24\n",
            "5       Surya       25\n",
            "6      Vajira       23\n"
          ]
        }
      ]
    },
    {
      "cell_type": "code",
      "source": [
        "df.rename(mapper={1:100,2:500},axis=0,inplace=True)\n",
        "print(df)"
      ],
      "metadata": {
        "colab": {
          "base_uri": "https://localhost:8080/"
        },
        "id": "e3-qV0Y2ZbTO",
        "outputId": "110967c6-92d1-46c2-d024-75476e31bee4"
      },
      "execution_count": 33,
      "outputs": [
        {
          "output_type": "stream",
          "name": "stdout",
          "text": [
            "       std_name  std_age\n",
            "0          Nidu       25\n",
            "100     Nirmala       30\n",
            "500   Prathmesh       28\n",
            "3       Anthony       30\n",
            "4    Pravallika       24\n",
            "5         Surya       25\n",
            "6        Vajira       23\n"
          ]
        }
      ]
    },
    {
      "cell_type": "code",
      "source": [
        "import numpy as np"
      ],
      "metadata": {
        "id": "bW8t56qYjVW-"
      },
      "execution_count": 34,
      "outputs": []
    },
    {
      "cell_type": "code",
      "source": [
        "data = {\"Name\":['Nidu','Nirmala','Prathmesh','Anthony','Pravallika','Surya','Vajira'],\n",
        "        'Age':[25,30,np.nan,30,24,np.nan,23],\n",
        "        'marks':[np.nan,80,80,70,50,90,np.nan]}\n",
        "\n",
        "df = pd.DataFrame(data)\n",
        "print(df)\n"
      ],
      "metadata": {
        "colab": {
          "base_uri": "https://localhost:8080/"
        },
        "id": "42oLO1RejRvx",
        "outputId": "ee5320ad-32ed-49b0-8bc8-812a001b878b"
      },
      "execution_count": 44,
      "outputs": [
        {
          "output_type": "stream",
          "name": "stdout",
          "text": [
            "         Name   Age  marks\n",
            "0        Nidu  25.0    NaN\n",
            "1     Nirmala  30.0   80.0\n",
            "2   Prathmesh   NaN   80.0\n",
            "3     Anthony  30.0   70.0\n",
            "4  Pravallika  24.0   50.0\n",
            "5       Surya   NaN   90.0\n",
            "6      Vajira  23.0    NaN\n"
          ]
        }
      ]
    },
    {
      "cell_type": "code",
      "source": [
        "df.info()"
      ],
      "metadata": {
        "colab": {
          "base_uri": "https://localhost:8080/"
        },
        "id": "sp7XYFeckrpA",
        "outputId": "fce91e3d-5c82-439e-ffb4-2377d5364c96"
      },
      "execution_count": 45,
      "outputs": [
        {
          "output_type": "stream",
          "name": "stdout",
          "text": [
            "<class 'pandas.core.frame.DataFrame'>\n",
            "RangeIndex: 7 entries, 0 to 6\n",
            "Data columns (total 3 columns):\n",
            " #   Column  Non-Null Count  Dtype  \n",
            "---  ------  --------------  -----  \n",
            " 0   Name    7 non-null      object \n",
            " 1   Age     5 non-null      float64\n",
            " 2   marks   5 non-null      float64\n",
            "dtypes: float64(2), object(1)\n",
            "memory usage: 296.0+ bytes\n"
          ]
        }
      ]
    },
    {
      "cell_type": "code",
      "source": [
        "df.dropna(inplace=True)\n",
        "print(df)"
      ],
      "metadata": {
        "colab": {
          "base_uri": "https://localhost:8080/"
        },
        "id": "Wd-UxriAjuSE",
        "outputId": "45677faa-fac3-4010-91cd-69d66402876c"
      },
      "execution_count": 38,
      "outputs": [
        {
          "output_type": "stream",
          "name": "stdout",
          "text": [
            "         Name   Age  marks\n",
            "1     Nirmala  30.0   80.0\n",
            "3     Anthony  30.0   70.0\n",
            "4  Pravallika  24.0   50.0\n"
          ]
        }
      ]
    },
    {
      "cell_type": "code",
      "source": [
        "df.fillna(value=0)\n",
        "print(df)"
      ],
      "metadata": {
        "colab": {
          "base_uri": "https://localhost:8080/"
        },
        "id": "0VhE4HRKj5u4",
        "outputId": "a1959195-03da-488b-e98f-75e4ba0f645d"
      },
      "execution_count": 40,
      "outputs": [
        {
          "output_type": "stream",
          "name": "stdout",
          "text": [
            "         Name   Age  marks\n",
            "0        Nidu  25.0    0.0\n",
            "1     Nirmala  30.0   80.0\n",
            "2   Prathmesh   0.0   80.0\n",
            "3     Anthony  30.0   70.0\n",
            "4  Pravallika  24.0   50.0\n",
            "5       Surya   0.0   90.0\n",
            "6      Vajira  23.0    0.0\n"
          ]
        }
      ]
    },
    {
      "cell_type": "code",
      "source": [
        "df['Age'].fillna(value=df['Age'].mean(),inplace=True)\n",
        "print(df)"
      ],
      "metadata": {
        "colab": {
          "base_uri": "https://localhost:8080/"
        },
        "id": "tHk8dYxZkPgh",
        "outputId": "825b4e8a-f759-4932-eb13-e2975bbb3cfc"
      },
      "execution_count": 47,
      "outputs": [
        {
          "output_type": "stream",
          "name": "stdout",
          "text": [
            "         Name   Age  marks\n",
            "0        Nidu  25.0    NaN\n",
            "1     Nirmala  30.0   80.0\n",
            "2   Prathmesh  26.4   80.0\n",
            "3     Anthony  30.0   70.0\n",
            "4  Pravallika  24.0   50.0\n",
            "5       Surya  26.4   90.0\n",
            "6      Vajira  23.0    NaN\n"
          ]
        }
      ]
    },
    {
      "cell_type": "code",
      "source": [
        "df['marks'].fillna(value=df['marks'].mean(),inplace=True)\n",
        "print(df)"
      ],
      "metadata": {
        "colab": {
          "base_uri": "https://localhost:8080/"
        },
        "id": "k2Ry_UrYkabB",
        "outputId": "add720d5-7745-4b51-bd5a-36af39f743b4"
      },
      "execution_count": 48,
      "outputs": [
        {
          "output_type": "stream",
          "name": "stdout",
          "text": [
            "         Name   Age  marks\n",
            "0        Nidu  25.0   74.0\n",
            "1     Nirmala  30.0   80.0\n",
            "2   Prathmesh  26.4   80.0\n",
            "3     Anthony  30.0   70.0\n",
            "4  Pravallika  24.0   50.0\n",
            "5       Surya  26.4   90.0\n",
            "6      Vajira  23.0   74.0\n"
          ]
        }
      ]
    },
    {
      "cell_type": "code",
      "source": [
        "print(df)"
      ],
      "metadata": {
        "colab": {
          "base_uri": "https://localhost:8080/"
        },
        "id": "OTpML265lRTf",
        "outputId": "0724e641-9a6c-4583-8fec-9394052c5cec"
      },
      "execution_count": 49,
      "outputs": [
        {
          "output_type": "stream",
          "name": "stdout",
          "text": [
            "         Name   Age  marks\n",
            "0        Nidu  25.0   74.0\n",
            "1     Nirmala  30.0   80.0\n",
            "2   Prathmesh  26.4   80.0\n",
            "3     Anthony  30.0   70.0\n",
            "4  Pravallika  24.0   50.0\n",
            "5       Surya  26.4   90.0\n",
            "6      Vajira  23.0   74.0\n"
          ]
        }
      ]
    },
    {
      "cell_type": "code",
      "source": [
        "age_mean = df['Age'].aggregate('mean')\n",
        "print(age_mean)"
      ],
      "metadata": {
        "colab": {
          "base_uri": "https://localhost:8080/"
        },
        "id": "QqDq6XAjlnsB",
        "outputId": "f81b84a6-d598-4ca9-a99e-c4bf97738dcd"
      },
      "execution_count": 50,
      "outputs": [
        {
          "output_type": "stream",
          "name": "stdout",
          "text": [
            "26.400000000000002\n"
          ]
        }
      ]
    },
    {
      "cell_type": "code",
      "source": [
        "res = df['Age'].agg(['sum','mean','median','max','min'])\n",
        "print(res)"
      ],
      "metadata": {
        "colab": {
          "base_uri": "https://localhost:8080/"
        },
        "id": "CtPJ2XfpmFEl",
        "outputId": "b833d57e-b3e4-47b6-efb4-fb5a5e4c0157"
      },
      "execution_count": 51,
      "outputs": [
        {
          "output_type": "stream",
          "name": "stdout",
          "text": [
            "sum       184.8\n",
            "mean       26.4\n",
            "median     26.4\n",
            "max        30.0\n",
            "min        23.0\n",
            "Name: Age, dtype: float64\n"
          ]
        }
      ]
    },
    {
      "cell_type": "code",
      "source": [
        "gender = ['M','F','M','F','M','F','F']\n",
        "df['gender'] = gender\n",
        "print(df)"
      ],
      "metadata": {
        "colab": {
          "base_uri": "https://localhost:8080/"
        },
        "id": "qDwSv0iwmZHa",
        "outputId": "d7d6fe6b-e2c4-439f-de92-f1245572467a"
      },
      "execution_count": 52,
      "outputs": [
        {
          "output_type": "stream",
          "name": "stdout",
          "text": [
            "         Name   Age  marks gender\n",
            "0        Nidu  25.0   74.0      M\n",
            "1     Nirmala  30.0   80.0      F\n",
            "2   Prathmesh  26.4   80.0      M\n",
            "3     Anthony  30.0   70.0      F\n",
            "4  Pravallika  24.0   50.0      M\n",
            "5       Surya  26.4   90.0      F\n",
            "6      Vajira  23.0   74.0      F\n"
          ]
        }
      ]
    },
    {
      "cell_type": "code",
      "source": [
        "res = df.groupby('gender')['Age'].agg(['sum','mean','median','max','min'])\n",
        "print(res)"
      ],
      "metadata": {
        "colab": {
          "base_uri": "https://localhost:8080/"
        },
        "id": "9tBvKjT2mmjE",
        "outputId": "cef53280-f9f8-473e-d90a-3f59ab6fd2ba"
      },
      "execution_count": 53,
      "outputs": [
        {
          "output_type": "stream",
          "name": "stdout",
          "text": [
            "          sum       mean  median   max   min\n",
            "gender                                      \n",
            "F       109.4  27.350000    28.2  30.0  23.0\n",
            "M        75.4  25.133333    25.0  26.4  24.0\n"
          ]
        }
      ]
    },
    {
      "cell_type": "code",
      "source": [
        "print(df)"
      ],
      "metadata": {
        "colab": {
          "base_uri": "https://localhost:8080/"
        },
        "id": "UsiatX1prJa-",
        "outputId": "db826184-8815-4708-9f04-8b763f48853e"
      },
      "execution_count": 54,
      "outputs": [
        {
          "output_type": "stream",
          "name": "stdout",
          "text": [
            "         Name   Age  marks gender\n",
            "0        Nidu  25.0   74.0      M\n",
            "1     Nirmala  30.0   80.0      F\n",
            "2   Prathmesh  26.4   80.0      M\n",
            "3     Anthony  30.0   70.0      F\n",
            "4  Pravallika  24.0   50.0      M\n",
            "5       Surya  26.4   90.0      F\n",
            "6      Vajira  23.0   74.0      F\n"
          ]
        }
      ]
    },
    {
      "cell_type": "code",
      "source": [
        "df1 = df.filter(items=['Name','gender'])\n",
        "print(df1)"
      ],
      "metadata": {
        "colab": {
          "base_uri": "https://localhost:8080/"
        },
        "id": "tciuk5JyrN9-",
        "outputId": "48320eef-f91d-4777-fcf0-00d52c4d9b57"
      },
      "execution_count": 55,
      "outputs": [
        {
          "output_type": "stream",
          "name": "stdout",
          "text": [
            "         Name gender\n",
            "0        Nidu      M\n",
            "1     Nirmala      F\n",
            "2   Prathmesh      M\n",
            "3     Anthony      F\n",
            "4  Pravallika      M\n",
            "5       Surya      F\n",
            "6      Vajira      F\n"
          ]
        }
      ]
    },
    {
      "cell_type": "code",
      "source": [
        "df2 = df[df.marks > 70]\n",
        "print(df2)"
      ],
      "metadata": {
        "colab": {
          "base_uri": "https://localhost:8080/"
        },
        "id": "1_MmXItnrblF",
        "outputId": "903a9799-6a24-4b94-e2c5-4a85fbc4317b"
      },
      "execution_count": 56,
      "outputs": [
        {
          "output_type": "stream",
          "name": "stdout",
          "text": [
            "        Name   Age  marks gender\n",
            "0       Nidu  25.0   74.0      M\n",
            "1    Nirmala  30.0   80.0      F\n",
            "2  Prathmesh  26.4   80.0      M\n",
            "5      Surya  26.4   90.0      F\n",
            "6     Vajira  23.0   74.0      F\n"
          ]
        }
      ]
    },
    {
      "cell_type": "code",
      "source": [
        "df3 = df.sort_values(by=['marks','Age'] , ascending=[False,True])\n",
        "print(df3)"
      ],
      "metadata": {
        "colab": {
          "base_uri": "https://localhost:8080/"
        },
        "id": "A6Soi4pVr109",
        "outputId": "fe392764-89ee-4252-ca1f-bd574999ac46"
      },
      "execution_count": 59,
      "outputs": [
        {
          "output_type": "stream",
          "name": "stdout",
          "text": [
            "         Name   Age  marks gender\n",
            "5       Surya  26.4   90.0      F\n",
            "2   Prathmesh  26.4   80.0      M\n",
            "1     Nirmala  30.0   80.0      F\n",
            "6      Vajira  23.0   74.0      F\n",
            "0        Nidu  25.0   74.0      M\n",
            "3     Anthony  30.0   70.0      F\n",
            "4  Pravallika  24.0   50.0      M\n"
          ]
        }
      ]
    },
    {
      "cell_type": "code",
      "source": [
        "import matplotlib.pyplot as plt"
      ],
      "metadata": {
        "id": "3O8iV5LYsjaZ"
      },
      "execution_count": 60,
      "outputs": []
    },
    {
      "cell_type": "code",
      "source": [
        "df.plot(x='Name',y='Age' , kind='bar')\n",
        "\n",
        "\n",
        "\n",
        "plt.xlabel('Name')\n",
        "plt.ylabel('Age')\n",
        "plt.title('Age vs Name')\n",
        "plt.show()"
      ],
      "metadata": {
        "colab": {
          "base_uri": "https://localhost:8080/",
          "height": 532
        },
        "id": "VuARpeZjsUPr",
        "outputId": "d385e07e-08f4-455b-ff84-9017c563e702"
      },
      "execution_count": 63,
      "outputs": [
        {
          "output_type": "display_data",
          "data": {
            "text/plain": [
              "<Figure size 640x480 with 1 Axes>"
            ],
            "image/png": "[encoded data removed]"
          },
          "metadata": {}
        }
      ]
    },
    {
      "cell_type": "code",
      "source": [],
      "metadata": {
        "id": "2-x4GRc2s8IZ"
      },
      "execution_count": null,
      "outputs": []
    },
    {
      "cell_type": "code",
      "source": [
        "df['marks'].plot(kind='hist')\n",
        "plt.show()"
      ],
      "metadata": {
        "colab": {
          "base_uri": "https://localhost:8080/",
          "height": 430
        },
        "id": "tFFPJezBs6is",
        "outputId": "04d877b3-56fa-4ad8-e9e2-3b1e5ae20b9c"
      },
      "execution_count": 64,
      "outputs": [
        {
          "output_type": "display_data",
          "data": {
            "text/plain": [
              "<Figure size 640x480 with 1 Axes>"
            ],
            "image/png": "[encoded data removed]"
          },
          "metadata": {}
        }
      ]
    }
  ]
}